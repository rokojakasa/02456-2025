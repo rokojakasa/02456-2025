{
 "cells": [
  {
   "cell_type": "markdown",
   "metadata": {
    "id": "y-CptVs7iACc"
   },
   "source": [
    "# Recurrent Neural Networks\n",
    "\n",
    "In this lab, we will introduce different ways of learning from sequential data.\n",
    "\n",
    "As a recurring example, we will train neural networks to do language modelling, i.e. predict the next token in a sentence. In the context of natural language processing a token could be a character or a word, but mind you that the concepts introduced here apply to all kinds of sequential data, such as e.g. protein sequences, weather measurements, audio signals, or videos, just to name a few.\n",
    "\n",
    "To really get a grasp of what is going on inside a recurrent neural network (RNN), we will carry out a substantial part of this exercise in Nanograd rather than PyTorch. \n",
    "\n",
    "We start off with a simple toy problem, build an RNN using Nanograd, train it, and see for ourselves that it really works. Once we're convinced, you will implement the Long Short-Term Memory (LSTM) cell, also in Nanograd. \n",
    "\n",
    "This is *not* simple but with the DenseLayer class we already have, it is doable. Having done it yourself will help you understand what happens under the hood of the PyTorch code we will use throughout the course.\n",
    "\n",
    "To summarize, in this notebook we will show you:\n",
    "* How to represent sequences of categorical variables\n",
    "* How to build and train an RNN in Nanograd\n",
    "* How to build and train an LSTM network in Nanograd\n",
    "* How to build and train an LSTM network in PyTorch"
   ]
  },
  {
   "cell_type": "markdown",
   "metadata": {
    "id": "XapO8SLwiACd"
   },
   "source": [
    "## Representing tokens or text\n",
    "\n",
    "In previous labs we mainly considered data $x \\in \\mathbb{R}^d$, where $d$ is the feature space dimension.\n",
    "With time sequences our data can be represented as $x \\in \\mathbb{R}^{t \\, \\times \\, d}$, where $t$ is the sequence length. \n",
    "This emphasises sequence dependence and that the samples along the sequence are not independent and identically distributed (i.i.d.).\n",
    "\n",
    "With RNNs, we can model both many-to-one functions: $\\mathbb{R}^{t \\, \\times \\, d} \\rightarrow \\mathbb{R}^c$ and many-to-many functions: $\\mathbb{R}^{t \\, \\times \\, d} \\rightarrow \\mathbb{R}^{t \\, \\times \\, c}$, where $c$ is the amount of classes/output dimensions.\n",
    "\n",
    "There are several ways to represent sequences. With text, the challenge is how to represent a word as a feature vector in $d$ dimensions, as we are required to represent text with decimal numbers in order to apply neural networks to it.\n",
    "\n",
    "In this exercise we will use a simple one-hot encoding but for categorical variables that can take on many values (e.g. words in the English language) this may be infeasible. For such scenarios, you can project the encodings into a smaller space by use of embeddings. If you want to learn more about tokens, encodings and embeddings than what is covered in this exercise, we highly recommend [this lecture](https://www.youtube.com/watch?v=kEMJRjEdNzM&list=PLoROMvodv4rOhcuXMZkNm7j3fVwBBY42z)."
   ]
  },
  {
   "cell_type": "markdown",
   "metadata": {
    "id": "bdA4LPsFiACe"
   },
   "source": [
    "### One-hot encoding over vocabulary\n",
    "\n",
    "One way to represent a fixed amount of words is by making a one-hot encoded vector, which consists of 0s in all cells with the exception of a single 1 in a cell used uniquely to identify each word.\n",
    "\n",
    "| vocabulary    | one-hot encoded vector   |\n",
    "| ------------- |--------------------------|\n",
    "| Paris         | $= [1, 0, 0, \\ldots, 0]$ |\n",
    "| Rome          | $= [0, 1, 0, \\ldots, 0]$ |\n",
    "| Copenhagen    | $= [0, 0, 1, \\ldots, 0]$ |\n",
    "\n",
    "Representing a large vocabulary with one-hot encodings often becomes inefficient because of the size of each sparse vector.\n",
    "To overcome this challenge it is common practice to truncate the vocabulary to contain the $k$ most used words and represent the rest with a special symbol, $\\mathtt{UNK}$, to define unknown/unimportant words.\n",
    "This often causes entities such as names to be represented with $\\mathtt{UNK}$ because they are rare.\n",
    "\n",
    "Consider the following text\n",
    "> I love the corny jokes in Spielberg's new movie.\n",
    "\n",
    "where an example result would be similar to\n",
    "> I love the corny jokes in $\\mathtt{UNK}$'s new movie."
   ]
  },
  {
   "cell_type": "markdown",
   "metadata": {
    "id": "KNmyPw7zk2gY"
   },
   "source": [
    "## Generating a dataset"
   ]
  },
  {
   "cell_type": "markdown",
   "metadata": {
    "id": "M9IEA4t2k2gb"
   },
   "source": [
    "For this exercise we will create a simple dataset that we can learn from. We generate sequences of the form:\n",
    "\n",
    "`a b EOS`,\n",
    "\n",
    "`a a b b EOS`,\n",
    "\n",
    "`a a a a a b b b b b EOS`\n",
    "\n",
    "where `EOS` is a special character denoting the end of a sequence. The task is to predict the next token $t_n$, i.e. `a`, `b`, `EOS` or the unknown token `UNK` given a sequence of tokens $\\{ t_{1}, t_{2}, \\dots , t_{n-1}\\}$, and we are to process sequences in a sequential manner. As such, the network will need to learn that e.g. 5 `b`s and an `EOS` token will follow 5 `a`s."
   ]
  },
  {
   "cell_type": "code",
<<<<<<< HEAD
   "execution_count": null,
   "metadata": {
    "id": "dcoN-kb7k2gc"
   },
   "outputs": [],
=======
   "execution_count": 1,
   "metadata": {
    "id": "dcoN-kb7k2gc"
   },
   "outputs": [
    {
     "name": "stdout",
     "output_type": "stream",
     "text": [
      "A single sample from the generated dataset:\n",
      "['a', 'a', 'a', 'b', 'b', 'b', 'EOS']\n"
     ]
    }
   ],
>>>>>>> 2033b94 (Completed exercises 4 and 5)
   "source": [
    "import numpy as np\n",
    "\n",
    "# Set seed such that we always get the same dataset\n",
    "# (this is a good idea in general)\n",
    "np.random.seed(42)\n",
    "\n",
    "def generate_dataset(num_sequences=2**5):\n",
    "    \"\"\"\n",
    "    Generates a number of sequences as our dataset.\n",
    "    \n",
    "    Args:\n",
    "     `num_sequences`: the number of sequences to be generated.\n",
    "     \n",
    "    Returns a list of sequences.\n",
    "    \"\"\"\n",
    "    samples = []\n",
    "    \n",
    "    for _ in range(num_sequences): \n",
    "        num_tokens = np.random.randint(1, 4)\n",
    "        sample = ['a'] * num_tokens + ['b'] * num_tokens + ['EOS']\n",
    "        samples.append(sample)\n",
    "        \n",
    "    return samples\n",
    "\n",
    "\n",
    "sequences = generate_dataset()\n",
    "\n",
    "print('A single sample from the generated dataset:')\n",
    "print(sequences[0])"
   ]
  },
  {
   "cell_type": "markdown",
   "metadata": {
    "id": "YMLd3Gzak2gp"
   },
   "source": [
    "## Representing tokens as indices"
   ]
  },
  {
   "cell_type": "markdown",
   "metadata": {
    "id": "S9LSqaJSk2gp"
   },
   "source": [
    "To build a one-hot encoding, we need to assign each possible word in our vocabulary an index. We do that by creating two dictionaries: one that allows us to go from a given word to its corresponding index in our vocabulary, and one for the reverse direction. Let's call them `word_to_idx` and `idx_to_word`. The keyword `vocab_size` specifies the maximum size of our vocabulary. If we try to access a word that does not exist in our vocabulary, it is automatically replaced by the `UNK` token or its corresponding index."
   ]
  },
  {
   "cell_type": "markdown",
   "metadata": {
    "id": "sNY1OOS_k2gy"
   },
   "source": [
    "## Exercise a) Sequence to dictionary function \n",
    "\n",
    "Complete the sequences_to_dicts function below. You will need to fill the word_to_idx and idx_to_word dictionaries so that we can go back and forth between the two representations."
   ]
  },
  {
   "cell_type": "code",
<<<<<<< HEAD
   "execution_count": null,
   "metadata": {
    "id": "Smdo70UMk2gr"
   },
   "outputs": [],
=======
   "execution_count": 2,
   "metadata": {
    "id": "Smdo70UMk2gr"
   },
   "outputs": [
    {
     "name": "stdout",
     "output_type": "stream",
     "text": [
      "We have 32 sentences and 4 unique tokens in our dataset (including UNK).\n",
      "\n",
      "The index of 'b' is 1\n",
      "The word corresponding to index 1 is 'b'\n"
     ]
    }
   ],
>>>>>>> 2033b94 (Completed exercises 4 and 5)
   "source": [
    "from collections import defaultdict\n",
    "\n",
    "def sequences_to_dicts(sequences):\n",
    "    \"\"\"\n",
    "    Creates word_to_idx and idx_to_word dictionaries for a list of sequences.\n",
    "    \"\"\"\n",
    "    # A bit of Python-magic to flatten a nested list\n",
    "    flatten = lambda l: [item for sublist in l for item in sublist]\n",
    "    \n",
    "    # Flatten the dataset\n",
    "    all_words = flatten(sequences)\n",
    "    \n",
    "    # Count number of word occurences\n",
    "    word_count = defaultdict(int)\n",
    "    for word in flatten(sequences):\n",
    "        word_count[word] += 1\n",
    "\n",
    "    # Sort by frequency\n",
    "    word_count = sorted(list(word_count.items()), key=lambda l: -l[1])\n",
    "\n",
    "    # Create a list of all unique words\n",
    "    unique_words = [item[0] for item in word_count]\n",
    "    \n",
    "    # Add UNK token to list of words\n",
    "    unique_words.append('UNK')\n",
    "\n",
    "    # Count number of sequences and number of unique words\n",
    "    num_sentences, vocab_size = len(sequences), len(unique_words)\n",
    "\n",
    "    # Create dictionaries so that we can go from word to index and back\n",
    "    # If a word is not in our vocabulary, we assign it to token 'UNK'\n",
    "    word_to_idx = defaultdict(lambda: vocab_size-1)\n",
    "    idx_to_word = defaultdict(lambda: 'UNK')\n",
    "\n",
    "    # Fill dictionaries\n",
    "    for idx, word in enumerate(unique_words):\n",
    "        # YOUR CODE HERE!\n",
<<<<<<< HEAD
    "        word_to_idx[word] =\n",
    "        idx_to_word[idx] =\n",
=======
    "        word_to_idx[word] = idx\n",
    "        idx_to_word[idx] = word\n",
>>>>>>> 2033b94 (Completed exercises 4 and 5)
    "\n",
    "    return word_to_idx, idx_to_word, num_sentences, vocab_size\n",
    "\n",
    "\n",
    "word_to_idx, idx_to_word, num_sequences, vocab_size = sequences_to_dicts(sequences)\n",
    "\n",
    "print(f'We have {num_sequences} sentences and {len(word_to_idx)} unique tokens in our dataset (including UNK).\\n')\n",
    "print('The index of \\'b\\' is', word_to_idx['b'])\n",
    "print(f'The word corresponding to index 1 is \\'{idx_to_word[1]}\\'')\n",
    "\n",
    "assert idx_to_word[word_to_idx['b']] == 'b', \\\n",
    "    'Consistency error: something went wrong in the conversion.'"
   ]
  },
  {
   "cell_type": "markdown",
   "metadata": {
    "id": "cGSoDRgHk2g1"
   },
   "source": [
    "## Partitioning the dataset"
   ]
  },
  {
   "cell_type": "markdown",
   "metadata": {
    "id": "UMTn1iLIk2g1"
   },
   "source": [
    "To build our dataset, we need to create inputs and targets for each sequences and partition sentences it into training, validation and test sets. 80%, 10% and 10% is a common distribution, but mind you that this largely depends on the size of the dataset. Since we are doing next-word predictions, our target sequence is simply the input sequence shifted by one word.\n",
    "\n",
    "We can use PyTorch's `Dataset` class to build a simple dataset where we can easily retrieve (inputs, targets) pairs for each of our sequences."
   ]
  },
  {
   "cell_type": "code",
<<<<<<< HEAD
   "execution_count": null,
   "metadata": {
    "id": "9dW7MrPnk2g3"
   },
   "outputs": [],
=======
   "execution_count": 3,
   "metadata": {
    "id": "9dW7MrPnk2g3"
   },
   "outputs": [
    {
     "name": "stdout",
     "output_type": "stream",
     "text": [
      "We have 25 samples in the training set.\n",
      "We have 3 samples in the validation set.\n",
      "We have 3 samples in the test set.\n"
     ]
    }
   ],
>>>>>>> 2033b94 (Completed exercises 4 and 5)
   "source": [
    "from torch.utils import data\n",
    "\n",
    "class Dataset(data.Dataset):\n",
    "    def __init__(self, inputs, targets):\n",
    "        self.inputs = inputs\n",
    "        self.targets = targets\n",
    "\n",
    "    def __len__(self):\n",
    "        # Return the size of the dataset\n",
    "        return len(self.targets)\n",
    "\n",
    "    def __getitem__(self, index):\n",
    "        # Retrieve inputs and targets at the given index\n",
    "        X = self.inputs[index]\n",
    "        y = self.targets[index]\n",
    "\n",
    "        return X, y\n",
    "\n",
    "    \n",
    "def create_datasets(sequences, dataset_class, p_train=0.8, p_val=0.1, p_test=0.1):\n",
    "    # Define partition sizes\n",
    "    num_train = int(len(sequences)*p_train)\n",
    "    num_val = int(len(sequences)*p_val)\n",
    "    num_test = int(len(sequences)*p_test)\n",
    "\n",
    "    # Split sequences into partitions\n",
    "    sequences_train = sequences[:num_train]\n",
    "    sequences_val = sequences[num_train:num_train+num_val]\n",
    "    sequences_test = sequences[-num_test:]\n",
    "\n",
    "    def get_inputs_targets_from_sequences(sequences):\n",
    "        # Define empty lists\n",
    "        inputs, targets = [], []\n",
    "        \n",
    "        # Append inputs and targets s.t. both lists contain L-1 words of a sentence of length L\n",
    "        # but targets are shifted right by one so that we can predict the next word\n",
    "        for sequence in sequences:\n",
    "            inputs.append(sequence[:-1])\n",
    "            targets.append(sequence[1:])\n",
    "            \n",
    "        return inputs, targets\n",
    "\n",
    "    # Get inputs and targets for each partition\n",
    "    inputs_train, targets_train = get_inputs_targets_from_sequences(sequences_train)\n",
    "    inputs_val, targets_val = get_inputs_targets_from_sequences(sequences_val)\n",
    "    inputs_test, targets_test = get_inputs_targets_from_sequences(sequences_test)\n",
    "\n",
    "    # Create datasets\n",
    "    training_set = dataset_class(inputs_train, targets_train)\n",
    "    validation_set = dataset_class(inputs_val, targets_val)\n",
    "    test_set = dataset_class(inputs_test, targets_test)\n",
    "\n",
    "    return training_set, validation_set, test_set\n",
    "    \n",
    "\n",
    "training_set, validation_set, test_set = create_datasets(sequences, Dataset)\n",
    "\n",
    "print(f'We have {len(training_set)} samples in the training set.')\n",
    "print(f'We have {len(validation_set)} samples in the validation set.')\n",
    "print(f'We have {len(test_set)} samples in the test set.')"
   ]
  },
  {
   "cell_type": "markdown",
   "metadata": {
    "id": "4xMMSm7Mk2g9"
   },
   "source": [
    "When working with more complex data than what we use in this exercise, creating a PyTorch `DataLoader` on top of the dataset can be beneficial. A data loader is basically a fancy generator/iterator that we can use to abstract away all of the data handling and pre-processing + it's super useful for processing batches of data as well! Data loaders will come in handy later when you start to work on your projects, so be sure to check them out!\n",
    "\n",
    "For more information on how to use datasets and data loaders in PyTorch, [consult the official guide](https://pytorch.org/tutorials/beginner/data_loading_tutorial.html)."
   ]
  },
  {
   "cell_type": "markdown",
   "metadata": {
    "id": "t-rfgDfZeMQ6"
   },
   "source": [
    "## Nanograd utilities"
   ]
  },
  {
   "cell_type": "markdown",
   "metadata": {
    "id": "oRO5ssg0eQMK"
   },
   "source": [
    "We load necessary utility functions for the Nanograd library, which we saw in Week 2."
   ]
  },
  {
   "cell_type": "code",
   "execution_count": 4,
   "metadata": {
    "id": "Jd4CoEBNzNWS"
   },
   "outputs": [],
   "source": [
    "# Copy and pasted from https://github.com/rasmusbergpalm/nanograd/blob/main/nanograd.py\n",
    "\n",
    "from math import exp, log, tanh\n",
    "\n",
    "class Var:\n",
    "    \"\"\"\n",
    "    A variable which holds a float and enables gradient computations.\n",
    "    \"\"\"\n",
    "\n",
    "    def __init__(self, val: float, grad_fn=lambda: []):\n",
    "        assert type(val) == float\n",
    "        self.v = val\n",
    "        self.grad_fn = grad_fn\n",
    "        self.grad = 0.0\n",
    "\n",
    "    def backprop(self, bp):\n",
    "        self.grad += bp\n",
    "        for input, grad in self.grad_fn():\n",
    "            input.backprop(grad * bp)\n",
    "\n",
    "    def backward(self):\n",
    "        self.backprop(1.0)\n",
    "\n",
    "    def __add__(self: 'Var', other: 'Var') -> 'Var':\n",
    "        return Var(self.v + other.v, lambda: [(self, 1.0), (other, 1.0)])\n",
    "\n",
    "    def __mul__(self: 'Var', other: 'Var') -> 'Var':\n",
    "        return Var(self.v * other.v, lambda: [(self, other.v), (other, self.v)])\n",
    "\n",
    "    def __pow__(self, power):\n",
    "        assert type(power) in {float, int}, \"power must be float or int\"\n",
    "        return Var(self.v ** power, lambda: [(self, power * self.v ** (power - 1))])\n",
    "\n",
    "    def __neg__(self: 'Var') -> 'Var':\n",
    "        return Var(-1.0) * self\n",
    "\n",
    "    def __sub__(self: 'Var', other: 'Var') -> 'Var':\n",
    "        return self + (-other)\n",
    "\n",
    "    def __truediv__(self: 'Var', other: 'Var') -> 'Var':\n",
    "        return self * other ** -1\n",
    "\n",
    "    def __repr__(self):\n",
    "        return \"Var(v=%.4f, grad=%.4f)\" % (self.v, self.grad)\n",
    "    \n",
    "    def exp(self):\n",
    "        return Var(exp(self.v), lambda: [(self, exp(self.v))])\n",
    "    \n",
    "    def log(self):\n",
    "        return Var(log(self.v), lambda: [(self, self.v ** -1)])\n",
    "\n",
    "    def relu(self):\n",
    "        return Var(self.v if self.v > 0.0 else 0.0, lambda: [(self, 1.0 if self.v > 0.0 else 0.0)])\n",
    "    \n",
    "    def identity(self):\n",
    "        return self\n",
    "\n",
    "    def sigmoid(self):\n",
    "        return Var(0.5) * (Var(1.0) + (Var(0.5) * self).tanh()) # logistic function is a scaled and shifted version of tanh\n",
    "    \n",
    "    def tanh(self):\n",
    "        return Var(tanh(self.v), lambda: [(self, 1-tanh(self.v) ** 2)])"
   ]
  },
  {
   "cell_type": "code",
   "execution_count": 5,
   "metadata": {
    "id": "9AMqMsiseMfz"
   },
   "outputs": [],
   "source": [
    "# convert from ndarray to Var\n",
    "def nparray_to_Var(x):\n",
    "  if x.ndim==1:\n",
    "    y = [[Var(float(x[i]))] for i in range(x.shape[0])] # always work with list of list\n",
    "  else:\n",
    "    y = [[Var(float(x[i,j])) for j in range(x.shape[1])] for i in range(x.shape[0])]\n",
    "  return y\n",
    "\n",
    "# convert from Var to ndarray  \n",
    "def Var_to_nparray(x):\n",
    "  try:\n",
    "    y = np.zeros((len(x),len(x[0])))\n",
    "    for i in range(len(x)):\n",
    "      for j in range(len(x[0])):\n",
    "        y[i,j] = x[i][j].v\n",
    "  except TypeError:\n",
    "    y = np.zeros((len(x)))\n",
    "    for i in range(len(x)):\n",
    "      y[i] = x[i].v\n",
    "\n",
    "  return y"
   ]
  },
  {
   "cell_type": "code",
   "execution_count": 6,
   "metadata": {
    "id": "ij_ieRsAt7Xt"
   },
   "outputs": [],
   "source": [
    "class Initializer:\n",
    "\n",
    "  def init_weights(self, n_in, n_out):\n",
    "    raise NotImplementedError\n",
    "\n",
    "  def init_bias(self, n_out):\n",
    "    raise NotImplementedError"
   ]
  },
  {
   "cell_type": "code",
   "execution_count": 7,
   "metadata": {
    "id": "eb18N5phuIha"
   },
   "outputs": [],
   "source": [
    "import random\n",
    "\n",
    "class NormalInitializer(Initializer):\n",
    "\n",
    "  def __init__(self, mean=0, std=0.1):\n",
    "    self.mean = mean\n",
    "    self.std = std\n",
    "\n",
    "  def init_weights(self, n_in, n_out):\n",
    "    return [[Var(random.gauss(self.mean, self.std)) for _ in range(n_out)] for _ in range(n_in)]\n",
    "\n",
    "  def init_bias(self, n_out):\n",
    "    return [Var(0.0) for _ in range(n_out)]\n",
    "\n",
    "class ConstantInitializer(Initializer):\n",
    "\n",
    "  def __init__(self, weight=1.0, bias=0.0):\n",
    "    self.weight = weight\n",
    "    self.bias = bias\n",
    "\n",
    "  def init_weights(self, n_in, n_out):\n",
    "    return [[Var(self.weight) for _ in range(n_out)] for _ in range(n_in)]\n",
    "\n",
    "  def init_bias(self, n_out):\n",
    "    return [Var(self.bias) for _ in range(n_out)]"
   ]
  },
  {
   "cell_type": "markdown",
   "metadata": {
    "id": "Dzmryk72k2g-"
   },
   "source": [
    "## One-hot encodings"
   ]
  },
  {
   "cell_type": "markdown",
   "metadata": {
    "id": "abRN9f8Xk2g_"
   },
   "source": [
    "We now create a simple function that returns the one-hot encoded representation of a given index of a word in our vocabulary. Notice that the shape of the one-hot encoding is equal to the entire vocabulary (which can be huge!). Additionally, we define a function to automatically one-hot encode a sentence."
   ]
  },
  {
   "cell_type": "code",
<<<<<<< HEAD
   "execution_count": null,
   "metadata": {
    "id": "IZruCIHJk2hB"
   },
   "outputs": [],
=======
   "execution_count": 8,
   "metadata": {
    "id": "IZruCIHJk2hB"
   },
   "outputs": [
    {
     "name": "stdout",
     "output_type": "stream",
     "text": [
      "Our one-hot encoding of 'a' has shape (1, 4).\n",
      "Our one-hot encoding of 'a b' has shape (2, 4).\n",
      "[[Var(v=1.0000, grad=0.0000), Var(v=0.0000, grad=0.0000), Var(v=0.0000, grad=0.0000), Var(v=0.0000, grad=0.0000)]]\n",
      "[[Var(v=1.0000, grad=0.0000), Var(v=0.0000, grad=0.0000), Var(v=0.0000, grad=0.0000), Var(v=0.0000, grad=0.0000)], [Var(v=0.0000, grad=0.0000), Var(v=1.0000, grad=0.0000), Var(v=0.0000, grad=0.0000), Var(v=0.0000, grad=0.0000)]]\n"
     ]
    },
    {
     "name": "stderr",
     "output_type": "stream",
     "text": [
      "/tmp/ipykernel_50770/170811074.py:6: DeprecationWarning: Conversion of an array with ndim > 0 to a scalar is deprecated, and will error in future. Ensure you extract a single element from your array before performing this operation. (Deprecated NumPy 1.25.)\n",
      "  y = [[Var(float(x[i,j])) for j in range(x.shape[1])] for i in range(x.shape[0])]\n"
     ]
    }
   ],
>>>>>>> 2033b94 (Completed exercises 4 and 5)
   "source": [
    "def one_hot_encode(idx, vocab_size):\n",
    "    \"\"\"\n",
    "    One-hot encodes a single word given its index and the size of the vocabulary.\n",
    "    \n",
    "    Args:\n",
    "     `idx`: the index of the given word\n",
    "     `vocab_size`: the size of the vocabulary\n",
    "    \n",
    "    Returns a 1-D numpy array of length `vocab_size`.\n",
    "    \"\"\"\n",
    "    # Initialize the encoded array\n",
    "    one_hot = np.array([np.zeros(vocab_size)])\n",
    "    \n",
    "    # Set the appropriate element to one\n",
    "    one_hot[0][idx] = 1.0\n",
    "    return nparray_to_Var(one_hot)\n",
    "\n",
    "\n",
    "def one_hot_encode_sequence(sequence, vocab_size):\n",
    "    \"\"\"\n",
    "    One-hot encodes a sequence of words given a fixed vocabulary size.\n",
    "    \n",
    "    Args:\n",
    "     `sentence`: a list of words to encode\n",
    "     `vocab_size`: the size of the vocabulary\n",
    "     \n",
    "    Returns a 3-D numpy array of shape (num words, vocab size, 1).\n",
    "    \"\"\"\n",
    "    # Encode each word in the sentence\n",
    "    encoding = np.array([Var_to_nparray(one_hot_encode(word_to_idx[word], vocab_size)) for word in sequence])\n",
    "\n",
    "    # Reshape encoding s.t. it has shape (num words, vocab size, 1)\n",
    "    encoding = encoding.reshape(encoding.shape[0], encoding.shape[2], 1)\n",
    "    return nparray_to_Var(encoding)\n",
    "\n",
    "test_word = one_hot_encode(word_to_idx['a'], vocab_size)\n",
    "print(f'Our one-hot encoding of \\'a\\' has shape {Var_to_nparray(test_word).shape}.')\n",
    "\n",
    "test_sentence = one_hot_encode_sequence(['a', 'b'], vocab_size)\n",
    "print(f'Our one-hot encoding of \\'a b\\' has shape {Var_to_nparray(test_sentence).shape}.')\n",
    "\n",
    "print(test_word)\n",
    "print(test_sentence)"
   ]
  },
  {
   "cell_type": "code",
   "execution_count": 9,
   "metadata": {
    "id": "JT6BqYrU_NxQ"
   },
<<<<<<< HEAD
   "outputs": [],
=======
   "outputs": [
    {
     "name": "stderr",
     "output_type": "stream",
     "text": [
      "/tmp/ipykernel_50770/170811074.py:6: DeprecationWarning: Conversion of an array with ndim > 0 to a scalar is deprecated, and will error in future. Ensure you extract a single element from your array before performing this operation. (Deprecated NumPy 1.25.)\n",
      "  y = [[Var(float(x[i,j])) for j in range(x.shape[1])] for i in range(x.shape[0])]\n"
     ]
    }
   ],
>>>>>>> 2033b94 (Completed exercises 4 and 5)
   "source": [
    "encoded_training_set_x = []\n",
    "encoded_training_set_y = []\n",
    "encoded_validation_set_x = []\n",
    "encoded_validation_set_y = []\n",
    "encoded_test_set_x = []\n",
    "encoded_test_set_y = []\n",
    "\n",
    "for n in range(len(training_set)):\n",
    "  encoded_training_set_x.append(one_hot_encode_sequence(training_set[n][0], vocab_size))\n",
    "  encoded_training_set_y.append(one_hot_encode_sequence(training_set[n][1], vocab_size))\n",
    "for n in range(len(validation_set)):\n",
    "  encoded_validation_set_x.append(one_hot_encode_sequence(validation_set[n][0], vocab_size))\n",
    "  encoded_validation_set_y.append(one_hot_encode_sequence(validation_set[n][1], vocab_size))\n",
    "for n in range(len(test_set)):\n",
    "  encoded_test_set_x.append(one_hot_encode_sequence(test_set[n][0], vocab_size))\n",
    "  encoded_test_set_y.append(one_hot_encode_sequence(test_set[n][1], vocab_size))"
   ]
  },
  {
   "cell_type": "markdown",
   "metadata": {
    "id": "erI_MXvKk2hG"
   },
   "source": [
    "Great! Now that we have our one-hot encodings in place, we can move on to the RNNs!"
   ]
  },
  {
   "cell_type": "markdown",
   "metadata": {
    "id": "MA6bxjGWjeSB"
   },
   "source": [
    "# Introduction to Recurrent Neural Networks (RNN)\n",
    "\n",
    "Reading material: [blog post](http://karpathy.github.io/2015/05/21/rnn-effectiveness/) and (optionally) [this lecture](https://www.youtube.com/watch?v=iWea12EAu6U&list=PLoROMvodv4rOhcuXMZkNm7j3fVwBBY42z).\n",
    "\n",
    "___\n",
    "\n",
    "A recurrent neural network (RNN) is a type of neural network that has been succesful in modelling sequential data, e.g. language, speech, protein sequences, etc.\n",
    "\n",
    "A RNN performs its computations in a cyclic manner, where the same computation is applied to every sample of a given sequence.\n",
    "The idea is that the network should be able to use the previous computations as some form of memory and apply this to future computations.\n",
    "An image may best explain how this is to be understood,\n",
    "\n",
    "![rnn-unroll image](https://github.com/DeepLearningDTU/02456-2025/blob/master/static_files/rnn-unfold.png?raw=1)\n",
    "\n",
    "\n",
    "where it the network contains the following elements:\n",
    "\n",
    "- $x$ is the input sequence of samples, \n",
    "- $U$ is a weight matrix applied to the given input sample,\n",
    "- $V$ is a weight matrix used for the recurrent computation in order to pass memory along the sequence,\n",
    "- $W$ is a weight matrix used to compute the output of the every timestep (given that every timestep requires an output),\n",
    "- $h$ is the hidden state (the network's memory) for a given time step, and\n",
    "- $o$ is the resulting output.\n",
    "\n",
    "When the network is unrolled as shown, it is easier to refer to a timestep, $t$.\n",
    "We have the following computations through the network:\n",
    "\n",
    "- $h_t = f(U\\,{x_t} + V\\,{h_{t-1}})$, where $f$ is a non-linear activation function, e.g. $\\mathrm{tanh}$.\n",
    "- $o_t = W\\,{h_t}$\n",
    "\n",
    "When we are doing language modelling using a cross-entropy loss, we additionally apply the softmax function to the output $o_{t}$:\n",
    "\n",
    "- $\\hat{y}_t = \\mathrm{softmax}(o_{t})$\n",
    "\n",
    "\n",
    "### Backpropagation through time\n",
    "\n",
    "We define a loss function\n",
    "\n",
    "- $E = \\sum_t E_t  = \\sum_t E_t(y_t ,\\hat{y}_t ) \\ , $\n",
    "\n",
    "where $E_t(y_t ,\\hat{y}_t )$ is the cross-entropy function.\n",
    "\n",
    "Backpropagation through time amounts to computing the gradients of the loss using the same type of clever bookkeeping we applied to the feed-forward network in week 1. This you will do in Exercise D."
   ]
  },
  {
   "cell_type": "markdown",
   "metadata": {
    "id": "GuvwbvsGz9KE"
   },
   "source": [
    "## Implementing an RNN\n",
    "\n",
    "We will implement the forward pass, backward pass, optimization and training loop for an RNN in Nanograd so that you can get familiar with the recurrent nature of RNNs. Later, we will go back to PyTorch."
   ]
  },
  {
   "cell_type": "markdown",
   "metadata": {
    "id": "gfbfcB-NJZuM"
   },
   "source": [
    "We define the Nanograd DenseLayer class from [lab 2](https://github.com/DeepLearningDTU/02456-deep-learning-with-PyTorch/blob/master/2_Feedforward_Python/2.1-EXE-FNN-AutoDif-Nanograd.ipynb) with a few additions:\n",
    "* the option use_bias to define a layer without bias. This is useful when we define the recurrent layer and\n",
    "* a method forward_sequence which is useful when a DenseLayer is used as part of a recurrent neural network"
   ]
  },
  {
   "cell_type": "code",
   "execution_count": 10,
   "metadata": {
    "id": "TqkVyEEACHKS"
   },
   "outputs": [],
   "source": [
    "from typing import Sequence\n",
    "\n",
    "class DenseLayer:\n",
    "    def __init__(self, n_in: int, n_out: int, act_fn, initializer = NormalInitializer(), use_bias=True):\n",
    "        self.weights = initializer.init_weights(n_in, n_out)\n",
    "        self.use_bias = use_bias\n",
    "        if use_bias:\n",
    "          self.bias = initializer.init_bias(n_out)\n",
    "        self.act_fn = act_fn\n",
    "    \n",
    "    def __repr__(self):    \n",
    "        return 'Weights: ' + repr(self.weights) + (' Biases: ' + repr(self.bias) if self.use_bias else '')\n",
    "\n",
    "    def parameters(self) -> Sequence[Var]:\n",
    "      params = []\n",
    "      for r in self.weights:\n",
    "        params += r\n",
    "\n",
    "      if self.use_bias:\n",
    "        params += self.bias\n",
    "\n",
    "      return params\n",
    "\n",
    "    def forward(self, input: Sequence[Var]) -> Sequence[Var]:\n",
    "        # self.weights is a matrix with dimension n_in x n_out. We check that the dimensionality of the input \n",
    "        # to the current layer matches the number of nodes in the current layer\n",
    "        assert len(self.weights) == len(input), \"weights and input must match in first dimension\"\n",
    "        weights = self.weights\n",
    "        out = []\n",
    "        # For some given data point single_input, we now want to calculate the resulting value in each node in the current layer\n",
    "        # We therefore loop over the (number of) nodes in the current layer:\n",
    "        for j in range(len(weights[0])): \n",
    "            # Initialize the node value depending on its corresponding parameters.\n",
    "            node = self.bias[j] if self.use_bias else Var(0.0)\n",
    "            # We now finish the linear transformation corresponding to the parameters of the currently considered node.\n",
    "            for i in range(len(input)):\n",
    "                node += input[i]*weights[i][j]\n",
    "            node = self.act_fn(node)\n",
    "            out.append(node)\n",
    "\n",
    "        return out\n",
    "    \n",
    "    def forward_sequence(self, input: Sequence[Sequence[Var]]) -> Sequence[Sequence[Var]]:\n",
    "        out = []\n",
    "        for i in range(len(input)): \n",
    "            node = self.forward(input[i])\n",
    "            out.append(node)\n",
    "\n",
    "        return out"
   ]
  },
  {
   "cell_type": "markdown",
   "metadata": {
    "id": "qDKFjjQEM-xX"
   },
   "source": [
    "## Exercise b) The RNNLayer class\n",
    "\n",
    "Complete the RNNLayer class below.\n",
    "\n",
    "Explain how we reuse the DenseLayer class.\n",
    "\n",
    "Explain what the forward and the forward_sequence method do."
   ]
  },
  {
   "cell_type": "code",
   "execution_count": 11,
   "metadata": {
    "id": "IcM1N6PQrT7l"
   },
   "outputs": [],
   "source": [
    "from typing import Sequence\n",
    "\n",
    "class RNNLayer:\n",
    "    def __init__(self, n_in: int, n_hid: int, act_fn, initializer = NormalInitializer(), initializer_hid = NormalInitializer()):\n",
    "        self.n_hid = n_hid\n",
<<<<<<< HEAD
    "        self.in_hid_layer = DenseLayer( , , lambda x: x, initializer)\n",
    "        self.hid_hid_layer = DenseLayer (, , lambda x: x, initializer_hid, use_bias=False) # we already get a bias through in_hid_layer        \n",
=======
    "        self.in_hid_layer = DenseLayer(n_in, n_hid, lambda x: x, initializer)\n",
    "        self.hid_hid_layer = DenseLayer (n_hid, n_hid, lambda x: x, initializer_hid, use_bias=False) # we already get a bias through in_hid_layer        \n",
>>>>>>> 2033b94 (Completed exercises 4 and 5)
    "        self.initial_hid = [Var(0.0) for _ in range(n_hid)]\n",
    "        self.stored_hid = [Var(0.0) for _ in range(n_hid)]\n",
    "        self.act_fn = act_fn\n",
    "    \n",
    "    def __repr__(self):    \n",
    "        return 'Feed-forward: ' + repr(self.in_hid_layer) + ' Recurrent: ' + repr(self.hid_hid_layer) + ' Initial hidden: ' + repr(self.initial_hid)\n",
    "\n",
    "    def parameters(self) -> Sequence[Var]:      \n",
    "      return self.in_hid_layer.parameters() + self.hid_hid_layer.parameters() + self.initial_hid\n",
    "\n",
    "    def forward_step(self, input: Sequence[Var], input_hid: Sequence[Var]) -> Sequence[Var]:\n",
<<<<<<< HEAD
    "        in_hids =  # contribution from input\n",
    "        hid_hids =   # contribution from hidden state\n",
    "\n",
    "        hids = []\n",
    "        for i in range(self.n_hid):\n",
    "          hids.append( )\n",
=======
    "        in_hids =  self.in_hid_layer.forward(input)\n",
    "        hid_hids = self.hid_hid_layer.forward(input_hid)\n",
    "\n",
    "        hids = []\n",
    "        for i in range(self.n_hid):\n",
    "            node = in_hids[i] + hid_hids[i]\n",
    "            node = self.act_fn(node)\n",
    "            hids.append(node)\n",
>>>>>>> 2033b94 (Completed exercises 4 and 5)
    "\n",
    "        return hids\n",
    "    \n",
    "    def forward_sequence(self, input: Sequence[Sequence[Var]], use_stored_hid = False) -> Sequence[Sequence[Var]]:\n",
    "        out = []\n",
    "        if use_stored_hid:\n",
    "            hid = self.stored_hid\n",
    "        else:\n",
    "            hid = self.initial_hid\n",
    "        # Takes a sequence and loops over each character in the sequence. Note that each character has dimension equal to the embedding dimension\n",
    "        for i in range(len(input)):\n",
<<<<<<< HEAD
    "            hid = \n",
=======
    "            hid = self.forward_step(input[i], hid)\n",
>>>>>>> 2033b94 (Completed exercises 4 and 5)
    "            out.append(hid)\n",
    "        self.stored_hid = hid\n",
    "        return out"
   ]
  },
  {
   "cell_type": "markdown",
   "metadata": {
    "id": "VgAU6qPHKJFr"
   },
   "source": [
    "Now we can define a network and pass some data through it."
   ]
  },
  {
   "cell_type": "code",
<<<<<<< HEAD
   "execution_count": null,
   "metadata": {
    "id": "MFkZ5gNG6d7c"
   },
   "outputs": [],
=======
   "execution_count": 12,
   "metadata": {
    "id": "MFkZ5gNG6d7c"
   },
   "outputs": [
    {
     "name": "stdout",
     "output_type": "stream",
     "text": [
      "Feed-forward: Weights: [[Var(v=0.1245, grad=0.0000), Var(v=0.0120, grad=0.0000), Var(v=0.0027, grad=0.0000), Var(v=0.0197, grad=0.0000), Var(v=0.0132, grad=0.0000)]] Biases: [Var(v=0.0000, grad=0.0000), Var(v=0.0000, grad=0.0000), Var(v=0.0000, grad=0.0000), Var(v=0.0000, grad=0.0000), Var(v=0.0000, grad=0.0000)] Recurrent: Weights: [[Var(v=0.0994, grad=0.0000), Var(v=-0.0345, grad=0.0000), Var(v=0.1495, grad=0.0000), Var(v=0.1792, grad=0.0000), Var(v=-0.0154, grad=0.0000)], [Var(v=0.0904, grad=0.0000), Var(v=0.0655, grad=0.0000), Var(v=-0.1302, grad=0.0000), Var(v=0.0269, grad=0.0000), Var(v=0.1003, grad=0.0000)], [Var(v=-0.1291, grad=0.0000), Var(v=-0.0320, grad=0.0000), Var(v=-0.0431, grad=0.0000), Var(v=0.0550, grad=0.0000), Var(v=-0.0502, grad=0.0000)], [Var(v=-0.1327, grad=0.0000), Var(v=0.0748, grad=0.0000), Var(v=-0.0545, grad=0.0000), Var(v=0.1253, grad=0.0000), Var(v=-0.0760, grad=0.0000)], [Var(v=0.0124, grad=0.0000), Var(v=0.0491, grad=0.0000), Var(v=0.1977, grad=0.0000), Var(v=-0.1663, grad=0.0000), Var(v=0.0334, grad=0.0000)]] Initial hidden: [Var(v=0.0000, grad=0.0000), Var(v=0.0000, grad=0.0000), Var(v=0.0000, grad=0.0000), Var(v=0.0000, grad=0.0000), Var(v=0.0000, grad=0.0000)]\n",
      "[[[Var(v=-0.0105, grad=1.0000)], [Var(v=-0.0229, grad=0.0000)], [Var(v=-0.0343, grad=0.0000)]], [[Var(v=-0.0105, grad=0.0000)], [Var(v=-0.0229, grad=0.0000)], [Var(v=-0.0343, grad=0.0000)]]]\n"
     ]
    }
   ],
>>>>>>> 2033b94 (Completed exercises 4 and 5)
   "source": [
    "NN = [\n",
    "    RNNLayer(1, 5, lambda x: x.tanh()),\n",
    "    DenseLayer(5, 1, lambda x: x.identity())\n",
    "]\n",
    "\n",
    "def forward_batch(input: Sequence[Sequence[Sequence[Var]]], network, use_stored_hid=False):\n",
    "  \n",
    "  def forward_single_sequence(x, network, use_stored_hid):\n",
    "    for layer in network:\n",
    "        if isinstance(layer, RNNLayer):\n",
    "            x = layer.forward_sequence(x, use_stored_hid) \n",
    "        else:\n",
    "            x = layer.forward_sequence(x)\n",
    "    return x\n",
    "\n",
    "  output = [ forward_single_sequence(input[n], network, use_stored_hid) for n in range(len(input))]\n",
    "  return output\n",
    "\n",
    "print(NN[0])\n",
    "x_train =[\n",
    "          [[Var(1.0)], [Var(2.0)], [Var(3.0)]],\n",
    "          [[Var(1.0)], [Var(2.0)], [Var(3.0)]]\n",
    "          ]\n",
    "\n",
    "output_train = forward_batch(x_train, NN)          \n",
    "output_train[0][0][0].backward()\n",
    "\n",
    "print(output_train)"
   ]
  },
  {
   "cell_type": "markdown",
   "metadata": {
    "id": "yolo5dKrk2hR"
   },
   "source": [
    "## Exercise c) Unit test\n",
    "\n",
    "Make unit tests to make sure that the output and the backward method work as it should.\n",
    "\n",
    "NOTE: The .backward() call above simply backpropagates a value in the output (and not a loss). Below, we will extend our loss functions to be able to handle backpropagation through time.\n",
    "\n",
    "Recycling code from [Week 2](https://github.com/DeepLearningDTU/02456-2025/tree/master/Week2%20Feedforward%20Python) is fine. "
   ]
  },
  {
   "cell_type": "code",
<<<<<<< HEAD
   "execution_count": 13,
   "metadata": {
    "id": "GhCB1ASwK3X7"
   },
   "outputs": [],
   "source": [
    "# Insert code here"
=======
   "execution_count": 27,
   "metadata": {
    "id": "GhCB1ASwK3X7"
   },
   "outputs": [
    {
     "ename": "AssertionError",
     "evalue": "Backward did not propagate any gradients",
     "output_type": "error",
     "traceback": [
      "\u001b[31m---------------------------------------------------------------------------\u001b[39m",
      "\u001b[31mAssertionError\u001b[39m                            Traceback (most recent call last)",
      "\u001b[36mCell\u001b[39m\u001b[36m \u001b[39m\u001b[32mIn[27]\u001b[39m\u001b[32m, line 32\u001b[39m\n\u001b[32m     30\u001b[39m \u001b[38;5;66;03m# Check that some gradients are non-zero\u001b[39;00m\n\u001b[32m     31\u001b[39m grads = [p.grad \u001b[38;5;28;01mfor\u001b[39;00m layer \u001b[38;5;129;01min\u001b[39;00m NN \u001b[38;5;28;01mfor\u001b[39;00m p \u001b[38;5;129;01min\u001b[39;00m layer.parameters()]\n\u001b[32m---> \u001b[39m\u001b[32m32\u001b[39m \u001b[38;5;28;01massert\u001b[39;00m \u001b[38;5;28many\u001b[39m(g != \u001b[32m0\u001b[39m \u001b[38;5;28;01mfor\u001b[39;00m g \u001b[38;5;129;01min\u001b[39;00m grads), \u001b[33m\"\u001b[39m\u001b[33mBackward did not propagate any gradients\u001b[39m\u001b[33m\"\u001b[39m\n\u001b[32m     34\u001b[39m input_grads = [v.grad \u001b[38;5;28;01mfor\u001b[39;00m seq \u001b[38;5;129;01min\u001b[39;00m x_train \u001b[38;5;28;01mfor\u001b[39;00m step \u001b[38;5;129;01min\u001b[39;00m seq \u001b[38;5;28;01mfor\u001b[39;00m v \u001b[38;5;129;01min\u001b[39;00m step]\n\u001b[32m     35\u001b[39m \u001b[38;5;28;01massert\u001b[39;00m \u001b[38;5;28many\u001b[39m(g != \u001b[32m0\u001b[39m \u001b[38;5;28;01mfor\u001b[39;00m g \u001b[38;5;129;01min\u001b[39;00m input_grads), \u001b[33m\"\u001b[39m\u001b[33mInput gradients not updated\u001b[39m\u001b[33m\"\u001b[39m\n",
      "\u001b[31mAssertionError\u001b[39m: Backward did not propagate any gradients"
     ]
    }
   ],
   "source": [
    "test_NN = [\n",
    "    RNNLayer(1, 5, lambda x: x.tanh()),\n",
    "    DenseLayer(5, 1, lambda x: x.identity())\n",
    "]\n",
    "\n",
    "x_train = [\n",
    "    [[Var(1.0)], [Var(2.0)], [Var(3.0)]],\n",
    "    [[Var(0.5)], [Var(-1.0)], [Var(2.5)]]\n",
    "]\n",
    "\n",
    "output_train = forward_batch(x_train, test_NN)\n",
    "\n",
    "assert len(output_train) == 2, \"Batch size mismatch\"\n",
    "for seq_out in output_train:\n",
    "    assert len(seq_out) == 3, \"Sequence length mismatch\"\n",
    "    for step_out in seq_out:\n",
    "        assert len(step_out) == 1, \"Output dimension mismatch\"\n",
    "        assert isinstance(step_out[0], Var), \"Output is not Var\"\n",
    "        \n",
    "for seq in x_train:\n",
    "    for step in seq:\n",
    "        for v in step:\n",
    "            v.grad = 0.0\n",
    "for layer in NN:\n",
    "    for p in layer.parameters():\n",
    "        p.grad = 0.0\n",
    "        \n",
    "output_train[0][0][0].backward()\n",
    "\n",
    "# Check that some gradients are non-zero\n",
    "grads = [p.grad for layer in NN for p in layer.parameters()]\n",
    "assert any(g != 0 for g in grads), \"Backward did not propagate any gradients\"\n",
    "\n",
    "input_grads = [v.grad for seq in x_train for step in seq for v in step]\n",
    "assert any(g != 0 for g in input_grads), \"Input gradients not updated\"\n",
    "\n",
    "print(\"All forward/backward tests passed!\")\n",
    "    \n"
>>>>>>> 2033b94 (Completed exercises 4 and 5)
   ]
  },
  {
   "cell_type": "markdown",
   "metadata": {
    "id": "4d4_2b6mK5jH"
   },
   "source": [
    "## Exercise d) Advanced initialization\n",
    "\n",
    "How can we use He initialization for the recurrent layer?\n",
    "\n",
    "Hint: the sum of two unit variance stochastic variables have variance 2.\n",
    "\n",
    "Insert code for He initialization of the recurrent layer. Again, recycling code from Lab 2 is fine. "
   ]
  },
  {
   "cell_type": "code",
<<<<<<< HEAD
   "execution_count": 14,
=======
   "execution_count": 13,
>>>>>>> 2033b94 (Completed exercises 4 and 5)
   "metadata": {
    "id": "oRn3mDnzLxu2"
   },
   "outputs": [],
   "source": [
    "## He\n",
    "def DenseLayer_He_tanh(n_in: int, n_out: int):\n",
<<<<<<< HEAD
    "  std = 0.0 # <- replace with proper initialization \n",
=======
    "  std = 2 / n_in # <- replace with proper initialization \n",
>>>>>>> 2033b94 (Completed exercises 4 and 5)
    "  return DenseLayer(n_in, n_out, lambda x: x.relu(), initializer = NormalInitializer(std))"
   ]
  },
  {
   "cell_type": "markdown",
   "metadata": {
    "id": "ozNN9xXML0yc"
   },
   "source": [
    "## Exercise e) Sequence loss function\n",
    "\n",
    "We want to solve a sequence to sequence problem. So you need a sequence loss function. \n",
    "\n",
    "Implement the function such that the sequence loss can take flexible input dimensions and so that it can take any loss as an argument, such as squared loss and cross entropy. (We recommend using cross entropy below)\n",
    "\n",
    "We have provided a bit of code to try it out.\n",
    "\n",
    "Hints: You can get inspiration from the forward_sequence method above. You can copy and paste squared loss and cross entropy from Lab 2. "
   ]
  },
  {
   "cell_type": "code",
<<<<<<< HEAD
   "execution_count": null,
   "metadata": {
    "id": "bYpEnbeMP4yL"
   },
   "outputs": [],
=======
   "execution_count": 34,
   "metadata": {
    "id": "bYpEnbeMP4yL"
   },
   "outputs": [
    {
     "name": "stdout",
     "output_type": "stream",
     "text": [
      "[[[Var(v=0.0074, grad=0.0000), Var(v=-0.0045, grad=0.0000), Var(v=-0.0006, grad=0.0000), Var(v=0.0054, grad=0.0000)], [Var(v=0.0063, grad=0.0000), Var(v=-0.0037, grad=0.0000), Var(v=-0.0004, grad=0.0000), Var(v=0.0047, grad=0.0000)], [Var(v=0.0065, grad=0.0000), Var(v=-0.0039, grad=0.0000), Var(v=-0.0004, grad=0.0000), Var(v=0.0048, grad=0.0000)], [Var(v=-0.0088, grad=0.0000), Var(v=0.0071, grad=0.0000), Var(v=0.0071, grad=0.0000), Var(v=-0.0009, grad=0.0000)], [Var(v=-0.0062, grad=0.0000), Var(v=0.0053, grad=0.0000), Var(v=0.0059, grad=0.0000), Var(v=0.0000, grad=0.0000)], [Var(v=-0.0067, grad=0.0000), Var(v=0.0056, grad=0.0000), Var(v=0.0061, grad=0.0000), Var(v=-0.0001, grad=0.0000)]], [[Var(v=0.0074, grad=0.0000), Var(v=-0.0045, grad=0.0000), Var(v=-0.0006, grad=0.0000), Var(v=0.0054, grad=0.0000)], [Var(v=-0.0089, grad=0.0000), Var(v=0.0072, grad=0.0000), Var(v=0.0071, grad=0.0000), Var(v=-0.0010, grad=0.0000)]], [[Var(v=0.0074, grad=0.0000), Var(v=-0.0045, grad=0.0000), Var(v=-0.0006, grad=0.0000), Var(v=0.0054, grad=0.0000)], [Var(v=0.0063, grad=0.0000), Var(v=-0.0037, grad=0.0000), Var(v=-0.0004, grad=0.0000), Var(v=0.0047, grad=0.0000)], [Var(v=0.0065, grad=0.0000), Var(v=-0.0039, grad=0.0000), Var(v=-0.0004, grad=0.0000), Var(v=0.0048, grad=0.0000)], [Var(v=-0.0088, grad=0.0000), Var(v=0.0071, grad=0.0000), Var(v=0.0071, grad=0.0000), Var(v=-0.0009, grad=0.0000)], [Var(v=-0.0062, grad=0.0000), Var(v=0.0053, grad=0.0000), Var(v=0.0059, grad=0.0000), Var(v=0.0000, grad=0.0000)], [Var(v=-0.0067, grad=0.0000), Var(v=0.0056, grad=0.0000), Var(v=0.0061, grad=0.0000), Var(v=-0.0001, grad=0.0000)]]]\n",
      "Loss: Var(v=13.8830, grad=0.0000)\n",
      "Output: [[[Var(v=0.0074, grad=-1.9851), Var(v=-0.0045, grad=-0.0089), Var(v=-0.0006, grad=-0.0013), Var(v=0.0054, grad=0.0108)], [Var(v=0.0063, grad=-1.9874), Var(v=-0.0037, grad=-0.0075), Var(v=-0.0004, grad=-0.0008), Var(v=0.0047, grad=0.0094)], [Var(v=0.0065, grad=0.0130), Var(v=-0.0039, grad=-2.0077), Var(v=-0.0004, grad=-0.0009), Var(v=0.0048, grad=0.0096)], [Var(v=-0.0088, grad=-0.0176), Var(v=0.0071, grad=-1.9858), Var(v=0.0071, grad=0.0142), Var(v=-0.0009, grad=-0.0019)], [Var(v=-0.0062, grad=-0.0125), Var(v=0.0053, grad=-1.9894), Var(v=0.0059, grad=0.0117), Var(v=0.0000, grad=0.0001)], [Var(v=-0.0067, grad=-0.0133), Var(v=0.0056, grad=0.0112), Var(v=0.0061, grad=-1.9879), Var(v=-0.0001, grad=-0.0002)]], [[Var(v=0.0074, grad=0.0149), Var(v=-0.0045, grad=-2.0089), Var(v=-0.0006, grad=-0.0013), Var(v=0.0054, grad=0.0108)], [Var(v=-0.0089, grad=-0.0179), Var(v=0.0072, grad=0.0144), Var(v=0.0071, grad=-1.9857), Var(v=-0.0010, grad=-0.0020)]], [[Var(v=0.0074, grad=-1.9851), Var(v=-0.0045, grad=-0.0089), Var(v=-0.0006, grad=-0.0013), Var(v=0.0054, grad=0.0108)], [Var(v=0.0063, grad=-1.9874), Var(v=-0.0037, grad=-0.0075), Var(v=-0.0004, grad=-0.0008), Var(v=0.0047, grad=0.0094)], [Var(v=0.0065, grad=0.0130), Var(v=-0.0039, grad=-2.0077), Var(v=-0.0004, grad=-0.0009), Var(v=0.0048, grad=0.0096)], [Var(v=-0.0088, grad=-0.0176), Var(v=0.0071, grad=-1.9858), Var(v=0.0071, grad=0.0142), Var(v=-0.0009, grad=-0.0019)], [Var(v=-0.0062, grad=-0.0125), Var(v=0.0053, grad=-1.9894), Var(v=0.0059, grad=0.0117), Var(v=0.0000, grad=0.0001)], [Var(v=-0.0067, grad=-0.0133), Var(v=0.0056, grad=0.0112), Var(v=0.0061, grad=-1.9879), Var(v=-0.0001, grad=-0.0002)]]]\n",
      "Network before update:\n",
      "Layer 0 \n",
      " Feed-forward: Weights: [[Var(v=-0.0459, grad=0.0400), Var(v=-0.1008, grad=0.2971)], [Var(v=-0.0810, grad=0.4016), Var(v=0.0964, grad=-0.5249)], [Var(v=0.1596, grad=0.0000), Var(v=0.0428, grad=0.0000)], [Var(v=0.1167, grad=0.0000), Var(v=0.0694, grad=0.0000)]] Biases: [Var(v=0.0000, grad=0.4416), Var(v=0.0000, grad=-0.2278)] Recurrent: Weights: [[Var(v=-0.1044, grad=-0.0258), Var(v=0.0245, grad=0.0247)], [Var(v=0.0080, grad=0.0032), Var(v=-0.1636, grad=-0.0258)]] Initial hidden: [Var(v=0.0000, grad=0.0023), Var(v=0.0000, grad=-0.0243)]\n",
      "Layer 1 \n",
      " Weights: [[Var(v=0.0054, grad=0.3548), Var(v=-0.0176, grad=0.8530), Var(v=-0.0503, grad=0.4383), Var(v=-0.0389, grad=-0.0026)], [Var(v=-0.0766, grad=0.7238), Var(v=0.0525, grad=-0.1780), Var(v=0.0293, grad=-0.5409), Var(v=-0.0360, grad=-0.0072)]] Biases: [Var(v=0.0000, grad=-8.0089), Var(v=0.0000, grad=-13.9710), Var(v=0.0000, grad=-5.9168), Var(v=0.0000, grad=0.0644)]\n",
      "\n",
      "Network after update:\n",
      "Layer 0 \n",
      " Feed-forward: Weights: [[Var(v=-0.0463, grad=0.0400), Var(v=-0.1037, grad=0.2971)], [Var(v=-0.0850, grad=0.4016), Var(v=0.1016, grad=-0.5249)], [Var(v=0.1596, grad=0.0000), Var(v=0.0428, grad=0.0000)], [Var(v=0.1167, grad=0.0000), Var(v=0.0694, grad=0.0000)]] Biases: [Var(v=-0.0044, grad=0.4416), Var(v=0.0023, grad=-0.2278)] Recurrent: Weights: [[Var(v=-0.1041, grad=-0.0258), Var(v=0.0242, grad=0.0247)], [Var(v=0.0080, grad=0.0032), Var(v=-0.1634, grad=-0.0258)]] Initial hidden: [Var(v=-0.0000, grad=0.0023), Var(v=0.0002, grad=-0.0243)]\n",
      "Layer 1 \n",
      " Weights: [[Var(v=0.0019, grad=0.3548), Var(v=-0.0261, grad=0.8530), Var(v=-0.0547, grad=0.4383), Var(v=-0.0389, grad=-0.0026)], [Var(v=-0.0839, grad=0.7238), Var(v=0.0543, grad=-0.1780), Var(v=0.0347, grad=-0.5409), Var(v=-0.0360, grad=-0.0072)]] Biases: [Var(v=0.0801, grad=-8.0089), Var(v=0.1397, grad=-13.9710), Var(v=0.0592, grad=-5.9168), Var(v=-0.0006, grad=0.0644)]\n",
      "\n",
      "Network after zeroing gradients:\n",
      "Layer 0 \n",
      " Feed-forward: Weights: [[Var(v=-0.0463, grad=0.0000), Var(v=-0.1037, grad=0.0000)], [Var(v=-0.0850, grad=0.0000), Var(v=0.1016, grad=0.0000)], [Var(v=0.1596, grad=0.0000), Var(v=0.0428, grad=0.0000)], [Var(v=0.1167, grad=0.0000), Var(v=0.0694, grad=0.0000)]] Biases: [Var(v=-0.0044, grad=0.0000), Var(v=0.0023, grad=0.0000)] Recurrent: Weights: [[Var(v=-0.1041, grad=0.0000), Var(v=0.0242, grad=0.0000)], [Var(v=0.0080, grad=0.0000), Var(v=-0.1634, grad=0.0000)]] Initial hidden: [Var(v=-0.0000, grad=0.0000), Var(v=0.0002, grad=0.0000)]\n",
      "Layer 1 \n",
      " Weights: [[Var(v=0.0019, grad=0.0000), Var(v=-0.0261, grad=0.0000), Var(v=-0.0547, grad=0.0000), Var(v=-0.0389, grad=0.0000)], [Var(v=-0.0839, grad=0.0000), Var(v=0.0543, grad=0.0000), Var(v=0.0347, grad=0.0000), Var(v=-0.0360, grad=0.0000)]] Biases: [Var(v=0.0801, grad=0.0000), Var(v=0.1397, grad=0.0000), Var(v=0.0592, grad=0.0000), Var(v=-0.0006, grad=0.0000)]\n"
     ]
    },
    {
     "data": {
      "text/plain": [
       "[None, None]"
      ]
     },
     "execution_count": 34,
     "metadata": {},
     "output_type": "execute_result"
    }
   ],
>>>>>>> 2033b94 (Completed exercises 4 and 5)
   "source": [
    "# Insert code here\n",
    "\n",
    "def squared_loss_sequence(t, y):\n",
<<<<<<< HEAD
    "    \n",
    "    # add check that sizes agree\n",
    "    \n",
    "    def squared_loss_single(t, y):\n",
    "\n",
    "        # add check that sizes agree\n",
    "        \n",
    "        Loss = Var(0.0)\n",
    "\n",
    "        return Loss\n",
    "\n",
    "    Loss = Var(0.0)\n",
=======
    "    assert len(t) == len(y)\n",
    "    \n",
    "    def squared_loss_single(t, y):\n",
    "\n",
    "        assert len(t) == len(y)\n",
    "        \n",
    "        Loss = Var(0.0)\n",
    "        for i in range (len(t)):\n",
    "          for j in range (len(t[i])):\n",
    "            dif = t[i][j] - y[i][j]\n",
    "            Loss += dif * dif\n",
    "        return Loss\n",
    "\n",
    "    Loss = Var(0.0)\n",
    "    for step in range(len(t)):\n",
    "      Loss += squared_loss_single(t[step], y[step])\n",
>>>>>>> 2033b94 (Completed exercises 4 and 5)
    "\n",
    "    return Loss\n",
    "\n",
    "def cross_entropy_loss_sequence(t, y):\n",
<<<<<<< HEAD
    "\n",
    "    # add check that sizes agree\n",
    "\n",
    "    def cross_entropy_loss_single(t, y):\n",
    "\n",
    "        # add check that sizes agree\n",
    "\n",
    "        Loss = Var(0.0)\n",
    "        denominator = Var(0.0)\n",
    "\n",
    "        return Loss\n",
    "\n",
    "    Loss = Var(0.0)\n",
    "\n",
=======
    "    assert len(t) == len(y)\n",
    "\n",
    "    def cross_entropy_loss_single(t, y):\n",
    "\n",
    "        assert len(t) == len(y)\n",
    "\n",
    "        Loss = Var(0.0)\n",
    "        denominator = Var(0.0)\n",
    "        for i in range (len(t)):\n",
    "          for j in range (len(t[i])):\n",
    "            Loss -= t[i][j] * y[i][j]\n",
    "        \n",
    "        def LogSumExp(t):\n",
    "          sol = Var(0.0)\n",
    "          for i in range (len(t)):\n",
    "            sol += t[i].exp()\n",
    "          return sol.log()\n",
    "        for i in range (len(t)):\n",
    "          Loss += LogSumExp(t[i])\n",
    "        return Loss\n",
    "      \n",
    "    Loss = Var(0.0)\n",
    "    for i in range(len(t)):\n",
    "      Loss += cross_entropy_loss_single(t[i], y[i])\n",
>>>>>>> 2033b94 (Completed exercises 4 and 5)
    "    return Loss\n",
    "\n",
    "def sequence_loss(t: Sequence[Sequence[Var]], y: Sequence[Sequence[Var]], loss_fn=cross_entropy_loss_sequence) -> Var:\n",
    "    assert len(t) == len(y)\n",
    "    return loss_fn(t, y)\n",
    "\n",
    "\n",
    "# Test of loss func\n",
    "NN = [\n",
    "    RNNLayer(4, 2, lambda x: x.tanh()),\n",
    "    DenseLayer(2, 4, lambda x: x.identity())\n",
    "]\n",
    "\n",
    "output_train = forward_batch(encoded_training_set_x[:3], NN)\n",
    "print(output_train)       \n",
<<<<<<< HEAD
    "loss = sequence_loss(output_train, encoded_training_set_y[:3], cross_entropy_loss_sequence)\n",
=======
    "loss = sequence_loss(output_train, encoded_training_set_y[:3], squared_loss_sequence)\n",
>>>>>>> 2033b94 (Completed exercises 4 and 5)
    "print(\"Loss:\", loss)\n",
    "loss.backward()\n",
    "\n",
    "print(\"Output:\", output_train)\n",
    "\n",
    "print('Network before update:')\n",
    "[print('Layer', i, '\\n', NN[i]) for i in range(len(NN))] \n",
    "\n",
    "def parameters(network):\n",
    "  params = []\n",
    "  for layer in range(len(network)):\n",
    "    params += network[layer].parameters()\n",
    "  return params\n",
    "\n",
    "def update_parameters(params, learning_rate=0.01):\n",
    "  for p in params:\n",
    "    p.v -= learning_rate*p.grad\n",
    "\n",
    "def zero_gradients(params):\n",
    "  for p in params:\n",
    "    p.grad = 0.0\n",
    "\n",
    "update_parameters(parameters(NN))\n",
    "\n",
    "print('\\nNetwork after update:')\n",
    "[print('Layer', i, '\\n', NN[i]) for i in range(len(NN))] \n",
    "\n",
    "zero_gradients(parameters(NN))\n",
    "\n",
    "print('\\nNetwork after zeroing gradients:')\n",
    "[print('Layer', i, '\\n', NN[i]) for i in range(len(NN))] \n"
   ]
  },
  {
   "cell_type": "markdown",
   "metadata": {
    "id": "ezSRiVJzk2h5"
   },
   "source": [
    "# Backpropagation through time \n",
    "\n",
    "Since we have automatic differentiation we don't have to code the backpropagation rule by hand. Just to give you a bit of appreciation for have much bookkeeping is necessary we have given the derivation belwo.\n",
    "\n",
    "We need to compute the partial derivatives\n",
    "$\n",
    "\\frac{\\partial E}{\\partial W},~\\frac{\\partial E}{\\partial U},~\\frac{\\partial E}{\\partial V}\n",
    "$. \n",
    "We repeat the definition of the RNN forward pass from above:\n",
    "\n",
    "- $h_t = f(U\\,{x_t} + V\\,{h_{t-1}})$, where $f$ usually is an activation function, e.g. $\\mathrm{tanh}$.\n",
    "- $o_t = W\\,{h_t}$\n",
    "- $\\hat{y}_t = \\mathrm{softmax}(o_{t})$\n",
    "\n",
    "where\n",
    "- $U$ is a weight matrix applied to the given input sample,\n",
    "- $V$ is a weight matrix used for the recurrent computation in order to pass memory along the sequence,\n",
    "- $W$ is a weight matrix used to compute the output of the every timestep (given that every timestep requires an output), and\n",
    "- $h$ is the hidden state (the network's memory) for a given time step.\n",
    "\n",
    "Recall though, that RNNs are recurrent and the weights $W,~U,~V$ are shared across time, i.e. we do not have separate weights for each time step. Therefore, to compute e.g. the partial derivative $\\frac{\\partial E}{\\partial W}$, we need to 1) sum up across time, and 2) apply the chain rule:\n",
    "\n",
    "$$\\frac{\\partial E}{\\partial W} = \\sum_{t} \\frac{\\partial E}{\\partial o_{t}} \\frac{\\partial o_{t}}{\\partial W}\\,.$$\n",
    "To compute$\\frac{\\partial o_{t}}{\\partial W}$ we use the definition of $o_t$ above.\n",
    "From week 1 (exercise i) we have that\n",
    "$$\\delta_{o,t} \\equiv \\frac{\\partial E}{\\partial o_{t}} = \\frac{\\partial E_t}{\\partial o_{t}} = \\hat{y}_{t} - y_{t}\\,,$$\n",
    "where $\\hat{y}_{t}$ is a softmax distribution over model outputs $o_{t}$ at time $t$, and $y_{t}$ is the target label at time $t$. \n",
    "\n",
    "To compute $\\frac{\\partial E}{\\partial U}$ and $\\frac{\\partial E}{\\partial V}$ we again sum over time and use the chain rule:\n",
    "$$\n",
    "\\frac{\\partial E}{\\partial U} = \\sum_{t} \\frac{\\partial E}{\\partial h_{t}} \\frac{\\partial h_{t}}{\\partial U} \\ . \n",
    "$$\n",
    "This leads us to introduce\n",
    "$$\n",
    "\\delta_{h,t} \\equiv \\frac{\\partial E}{\\partial h_{t}} \\ .\n",
    "$$\n",
    "The backpropagation through time recursion is derived by realising that a variation of $h_t$ affects 1) the loss at time step $t$ through the feed-forward connection to the output and 2) the future losses through the $h_{t+1}$ dependence of $h_t$. Mathematically, we write this through the chain rule:\n",
    "\n",
    "$$\n",
    "\\delta_{h,t} \\equiv \\frac{\\partial E}{\\partial h_{t}} =  \\frac{\\partial E}{\\partial o_{t}} \\frac{\\partial o_t}{\\partial h_{t}} + \\frac{\\partial E}{\\partial h_{t+1}}\n",
    "\\frac{\\partial h_{t+1}}{\\partial h_{t}} = \\delta_{o,t} \\frac{\\partial o_t}{\\partial h_{t}} + \\delta_{h,t+1}\n",
    "\\frac{\\partial h_{t+1}}{\\partial h_{t}} \\ . \n",
    "$$\n",
    "\n",
    "Like above we can compute $\\frac{\\partial h_{t+1}}{\\partial h_{t}}$ using the definition of the network (shifted one time step). In the code the intermediate steps to compute the $\\delta$ recursions have been precomputed for you. \n",
    "\n",
    "For more information on backpropagation through time see the [Goodfellow book section 10.2.2](https://www.deeplearningbook.org/contents/rnn.html).\n"
   ]
  },
  {
   "cell_type": "markdown",
   "metadata": {
    "id": "XIy3OZaQSrVL"
   },
   "source": [
    "# Exercise f) Complete the training loop\n",
    "\n",
    "Complete the training loop above and run the training. You can leave the hyper-parameters and network size unchanged.\n",
    "\n",
    "Note that despite the small size of the network and dataset, training still takes quite a while. This is an issue with the recurrent structure of Nanograd. Using PyTorch, we would be able to use much larger datasets and models. We will attempt that in the bottom of the notebook. For now, you should get a feel of the recurrent structure of the RNN under the hood."
   ]
  },
  {
   "cell_type": "code",
<<<<<<< HEAD
   "execution_count": 16,
=======
   "execution_count": 32,
>>>>>>> 2033b94 (Completed exercises 4 and 5)
   "metadata": {
    "id": "MkaqbWmroncY"
   },
   "outputs": [],
   "source": [
    "# Initialize training hyperparameters\n",
    "EPOCHS = 200\n",
    "LR = 1e-2 \n",
    "LR_DECAY = 0.995"
   ]
  },
  {
   "cell_type": "code",
<<<<<<< HEAD
   "execution_count": null,
   "metadata": {
    "id": "-JtM_IQjonfK"
   },
   "outputs": [],
=======
   "execution_count": 35,
   "metadata": {
    "id": "-JtM_IQjonfK"
   },
   "outputs": [
    {
     "name": "stdout",
     "output_type": "stream",
     "text": [
      "   0 ( 0.00%) Train loss: 5.129 \t Validation loss: 4.197\n",
      "   5 ( 2.50%) Train loss: 4.418 \t Validation loss: 3.620\n",
      "  10 ( 5.00%) Train loss: 3.757 \t Validation loss: 3.093\n",
      "  15 ( 7.50%) Train loss: 3.304 \t Validation loss: 2.724\n",
      "  20 (10.00%) Train loss: 3.113 \t Validation loss: 2.577\n",
      "  25 (12.50%) Train loss: 3.002 \t Validation loss: 2.517\n",
      "  30 (15.00%) Train loss: 2.918 \t Validation loss: 2.498\n",
      "  35 (17.50%) Train loss: 2.856 \t Validation loss: 2.486\n",
      "  40 (20.00%) Train loss: 2.806 \t Validation loss: 2.467\n",
      "  45 (22.50%) Train loss: 2.753 \t Validation loss: 2.429\n",
      "  50 (25.00%) Train loss: 2.667 \t Validation loss: 2.336\n",
      "  55 (27.50%) Train loss: 2.509 \t Validation loss: 2.126\n",
      "  60 (30.00%) Train loss: 2.246 \t Validation loss: 1.901\n",
      "  65 (32.50%) Train loss: 1.915 \t Validation loss: 1.663\n",
      "  70 (35.00%) Train loss: 1.648 \t Validation loss: 1.593\n",
      "  75 (37.50%) Train loss: 1.690 \t Validation loss: 1.669\n",
      "  80 (40.00%) Train loss: 1.689 \t Validation loss: 1.594\n",
      "  85 (42.50%) Train loss: 1.576 \t Validation loss: 1.647\n",
      "  90 (45.00%) Train loss: 1.555 \t Validation loss: 1.636\n",
      "  95 (47.50%) Train loss: 1.530 \t Validation loss: 1.625\n",
      " 100 (50.00%) Train loss: 1.493 \t Validation loss: 1.610\n",
      " 105 (52.50%) Train loss: 1.461 \t Validation loss: 1.593\n",
      " 110 (55.00%) Train loss: 1.435 \t Validation loss: 1.577\n",
      " 115 (57.50%) Train loss: 1.413 \t Validation loss: 1.561\n",
      " 120 (60.00%) Train loss: 1.394 \t Validation loss: 1.547\n",
      " 125 (62.50%) Train loss: 1.379 \t Validation loss: 1.533\n",
      " 130 (65.00%) Train loss: 1.365 \t Validation loss: 1.521\n",
      " 135 (67.50%) Train loss: 1.353 \t Validation loss: 1.509\n",
      " 140 (70.00%) Train loss: 1.342 \t Validation loss: 1.499\n",
      " 145 (72.50%) Train loss: 1.332 \t Validation loss: 1.489\n",
      " 150 (75.00%) Train loss: 1.323 \t Validation loss: 1.480\n",
      " 155 (77.50%) Train loss: 1.315 \t Validation loss: 1.471\n",
      " 160 (80.00%) Train loss: 1.308 \t Validation loss: 1.464\n",
      " 165 (82.50%) Train loss: 1.302 \t Validation loss: 1.456\n",
      " 170 (85.00%) Train loss: 1.295 \t Validation loss: 1.449\n",
      " 175 (87.50%) Train loss: 1.290 \t Validation loss: 1.442\n",
      " 180 (90.00%) Train loss: 1.284 \t Validation loss: 1.436\n",
      " 185 (92.50%) Train loss: 1.280 \t Validation loss: 1.430\n",
      " 190 (95.00%) Train loss: 1.275 \t Validation loss: 1.424\n",
      " 195 (97.50%) Train loss: 1.271 \t Validation loss: 1.419\n"
     ]
    },
    {
     "data": {
      "image/png": "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",
      "text/plain": [
       "<Figure size 640x480 with 1 Axes>"
      ]
     },
     "metadata": {},
     "output_type": "display_data"
    }
   ],
>>>>>>> 2033b94 (Completed exercises 4 and 5)
   "source": [
    "train_loss = []\n",
    "val_loss = []\n",
    "\n",
    "batch_size = 8\n",
    "\n",
    "for e in range(EPOCHS):\n",
    "    for b in range(int(np.ceil(len(encoded_training_set_x)/batch_size))):\n",
    "        # Forward pass and loss computation\n",
<<<<<<< HEAD
    "        Loss = \n",
=======
    "        start = b * batch_size\n",
    "        end = start + batch_size\n",
    "        batch_x = encoded_training_set_x[start:end]\n",
    "        batch_y = encoded_training_set_y[start:end]\n",
    "        output_batch = forward_batch(batch_x, NN)\n",
    "        Loss = sequence_loss(output_batch, encoded_training_set_y[start:end], cross_entropy_loss_sequence)\n",
>>>>>>> 2033b94 (Completed exercises 4 and 5)
    "\n",
    "        # Backward pass\n",
    "        Loss.backward()\n",
    "        \n",
    "        # gradient descent update\n",
    "        update_parameters(parameters(NN), LR)\n",
    "        zero_gradients(parameters(NN))\n",
    "      \n",
    "    LR = LR * LR_DECAY\n",
    "\n",
    "    # Training loss\n",
<<<<<<< HEAD
    "    Loss = \n",
    "    train_loss.append(Loss.v/len(encoded_training_set_y))\n",
    "        \n",
    "    # Validation loss\n",
    "    Loss_validation = \n",
=======
    "    output_train = forward_batch(encoded_training_set_x, NN)\n",
    "    Loss = sequence_loss(output_train, encoded_training_set_y, cross_entropy_loss_sequence)\n",
    "    train_loss.append(Loss.v/len(encoded_training_set_y))\n",
    "        \n",
    "    # Validation loss\n",
    "    output_val = forward_batch(encoded_validation_set_x, NN)\n",
    "    Loss_validation = sequence_loss(output_val, encoded_validation_set_y, cross_entropy_loss_sequence)\n",
>>>>>>> 2033b94 (Completed exercises 4 and 5)
    "    val_loss.append(Loss_validation.v/len(encoded_validation_set_y))\n",
    "    \n",
    "    if e%5==0:\n",
    "        print(\"{:4d}\".format(e),\n",
    "              \"({:5.2f}%)\".format(e/EPOCHS*100), \n",
    "              \"Train loss: {:4.3f} \\t Validation loss: {:4.3f}\".format(train_loss[-1], val_loss[-1]))\n",
    "        \n",
    "# Plot training and validation loss\n",
    "import matplotlib.pyplot as plt\n",
    "%matplotlib inline\n",
    "epoch = np.arange(len(train_loss))\n",
    "plt.figure()\n",
    "plt.plot(epoch, train_loss, 'r', label='Training loss',)\n",
    "plt.plot(epoch, val_loss, 'b', label='Validation loss')\n",
    "plt.legend()\n",
    "plt.xlabel('Epoch'), plt.ylabel('NLL')\n",
    "plt.show()"
   ]
  },
  {
   "cell_type": "code",
<<<<<<< HEAD
   "execution_count": null,
   "metadata": {
    "id": "nAI_D6g25pTQ"
   },
   "outputs": [],
=======
   "execution_count": 36,
   "metadata": {
    "id": "nAI_D6g25pTQ"
   },
   "outputs": [
    {
     "name": "stdout",
     "output_type": "stream",
     "text": [
      "Input sentence:\n",
      "['a', 'a', 'a', 'b', 'b', 'b']\n",
      "\n",
      "Target sequence:\n",
      "['a', 'a', 'b', 'b', 'b', 'EOS']\n",
      "\n",
      "Predicted sequence:\n",
      "['a', 'b', 'b', 'b', 'b', 'EOS']\n"
     ]
    },
    {
     "name": "stderr",
     "output_type": "stream",
     "text": [
      "/tmp/ipykernel_50770/170811074.py:6: DeprecationWarning: Conversion of an array with ndim > 0 to a scalar is deprecated, and will error in future. Ensure you extract a single element from your array before performing this operation. (Deprecated NumPy 1.25.)\n",
      "  y = [[Var(float(x[i,j])) for j in range(x.shape[1])] for i in range(x.shape[0])]\n"
     ]
    }
   ],
>>>>>>> 2033b94 (Completed exercises 4 and 5)
   "source": [
    "# Get first sentence in test set\n",
    "inputs, targets = test_set[0]\n",
    "\n",
    "# One-hot encode input and target sequence\n",
    "inputs_one_hot = one_hot_encode_sequence(inputs, vocab_size)\n",
    "targets_one_hot = one_hot_encode_sequence(targets, vocab_size)\n",
    "\n",
    "# Forward pass\n",
    "outputs = forward_batch(encoded_test_set_x[:1], NN)\n",
    "\n",
    "output_sentence = [idx_to_word[np.argmax(output)] for output in Var_to_nparray(outputs[0])]\n",
    "\n",
    "print('Input sentence:')\n",
    "print(inputs)\n",
    "\n",
    "print('\\nTarget sequence:')\n",
    "print(targets)\n",
    "\n",
    "print('\\nPredicted sequence:')\n",
    "print([idx_to_word[np.argmax(output)] for output in Var_to_nparray(outputs[0])])"
   ]
  },
  {
   "cell_type": "markdown",
   "metadata": {
    "id": "Nn7QpUZXk2iH"
   },
   "source": [
    "## Exercise g) Extrapolation\n",
    "\n",
    "Now that we have trained an RNN, it's time to put it to test. We will provide the network with a starting sentence and let it `freestyle` from there!\n",
    "\n",
    "How well does your RNN extrapolate -- does it work as expected? Are there any imperfections? If yes, why could that be?"
   ]
  },
  {
   "cell_type": "code",
<<<<<<< HEAD
   "execution_count": null,
   "metadata": {
    "id": "4GNsD6HEJ-Gn"
   },
   "outputs": [],
=======
   "execution_count": 38,
   "metadata": {
    "id": "4GNsD6HEJ-Gn"
   },
   "outputs": [
    {
     "name": "stdout",
     "output_type": "stream",
     "text": [
      "Example 0: a a b\n",
      "Predicted sequence: ['a', 'a', 'b', 'b', 'EOS']\n",
      "\n",
      "Example 1: a a a a b\n",
      "Predicted sequence: ['a', 'a', 'a', 'a', 'b', 'b', 'b', 'EOS']\n",
      "\n",
      "Example 2: a a a a a a b\n",
      "Predicted sequence: ['a', 'a', 'a', 'a', 'a', 'a', 'b', 'b', 'b', 'EOS']\n",
      "\n",
      "Example 3: a\n",
      "Predicted sequence: ['a', 'a', 'b', 'b', 'EOS']\n",
      "\n",
      "Example 4: r n n\n",
      "Predicted sequence: ['r', 'n', 'n', 'EOS']\n",
      "\n"
     ]
    },
    {
     "name": "stderr",
     "output_type": "stream",
     "text": [
      "/tmp/ipykernel_50770/170811074.py:6: DeprecationWarning: Conversion of an array with ndim > 0 to a scalar is deprecated, and will error in future. Ensure you extract a single element from your array before performing this operation. (Deprecated NumPy 1.25.)\n",
      "  y = [[Var(float(x[i,j])) for j in range(x.shape[1])] for i in range(x.shape[0])]\n"
     ]
    }
   ],
>>>>>>> 2033b94 (Completed exercises 4 and 5)
   "source": [
    "def freestyle(NN, sentence='', num_generate=10):\n",
    "    \"\"\"\n",
    "    Takes in a sentence as a string and outputs a sequence\n",
    "    based on the predictions of the RNN.\n",
    "    \n",
    "    Args:\n",
    "     `params`: the parameters of the network\n",
    "     `sentence`: string with whitespace-separated tokens\n",
    "     `num_generate`: the number of tokens to generate\n",
    "    \"\"\"\n",
    "    sentence = sentence.split(' ')\n",
    "    output_sentence = sentence\n",
    "    sentence_one_hot = one_hot_encode_sequence(sentence, vocab_size)\n",
    "\n",
    "    # Begin predicting\n",
    "    outputs = forward_batch([sentence_one_hot], NN, use_stored_hid=False)\n",
    "    output_words = [idx_to_word[np.argmax(output)] for output in Var_to_nparray(outputs[0])]\n",
    "    word = output_words[-1]\n",
    "\n",
    "    # Append first prediction\n",
    "    output_sentence.append(word)\n",
    "\n",
    "    # Forward pass - Insert code here!\n",
    "    if word != 'EOS':\n",
    "      for i in range(num_generate-1):\n",
<<<<<<< HEAD
    "          sentence_one_hot = \n",
    "          outputs = \n",
    "          output_words = \n",
    "          word = \n",
=======
    "          sentence_one_hot = one_hot_encode_sequence(output_sentence, vocab_size)\n",
    "          outputs = forward_batch([sentence_one_hot], NN, use_stored_hid=False)\n",
    "          output_words = [idx_to_word[np.argmax(output)] for output in Var_to_nparray(outputs[0])]\n",
    "          word = output_words[-1]\n",
>>>>>>> 2033b94 (Completed exercises 4 and 5)
    "          output_sentence.append(word)\n",
    "          if word == 'EOS':\n",
    "              break\n",
    "          \n",
    "    return output_sentence\n",
    "\n",
    "\n",
    "# Perform freestyle (extrapolation)\n",
    "test_examples = ['a a b', 'a a a a b', 'a a a a a a b', 'a', 'r n n']\n",
    "for i, test_example in enumerate(test_examples):\n",
    "    print(f'Example {i}:', test_example)\n",
    "    print('Predicted sequence:', freestyle(NN, sentence=test_example), end='\\n\\n')"
   ]
  },
  {
   "cell_type": "markdown",
   "metadata": {
    "id": "X44hQ653vNCj"
   },
   "source": [
    "# Introduction to the Long Short-Term Memory (LSTM) Cell\n",
    "\n",
    "Reading material: [Christopher Olah's walk-through](http://colah.github.io/posts/2015-08-Understanding-LSTMs/).\n",
    "\n",
    "___\n",
    "\n",
    "\n",
    "A vanilla RNN suffers from [the vanishing gradients problem](http://neuralnetworksanddeeplearning.com/chap5.html#the_vanishing_gradient_problem) which gives challenges in saving memory over longer sequences. To combat these issues the gated hidden units were created. The two most prominent gated hidden units are the Long Short-Term Memory (LSTM) cell and the Gated Recurrent Unit (GRU), both of which have shown increased performance in saving and reusing memory in later timesteps. In this exercise, we will focus on LSTM but you would easily be able to go ahead and implement the GRU as well based on the principles that you learn here.\n",
    "\n",
    "Below is a figure of the LSTM cell:"
   ]
  },
  {
   "cell_type": "markdown",
   "metadata": {
    "id": "5Rgc-g3zwV9f"
   },
   "source": [
    "![lstm](https://i.imgur.com/3VkmUCe.png)\n",
    "Source: https://arxiv.org/abs/1412.7828"
   ]
  },
  {
   "cell_type": "markdown",
   "metadata": {
    "id": "ytasZ5cqw4W1"
   },
   "source": [
    "\n",
    "The LSTM cell contains three gates, input, forget, output gates and a memory cell.\n",
    "The output of the LSTM unit is computed with the following functions, where $\\sigma = \\mathrm{sigmoid}$.\n",
    "We have input gate $i$, forget gate $f$, and output gate $o$ defines as\n",
    "\n",
    "- $i = \\sigma ( W^i [h_{t-1}, x_t])$\n",
    "\n",
    "- $f = \\sigma ( W^f [h_{t-1},x_t])$\n",
    "\n",
    "- $o = \\sigma ( W^o [h_{t-1},x_t])$\n",
    "\n",
    "where $W^i, W^f, W^o$ are weight matrices applied to a concatenated $h_{t-1}$ (hidden state vector) and $x_t$ (input vector)  for each respective gate.\n",
    "\n",
    "$h_{t-1}$, from the previous time step along with the current input $x_t$ are used to compute the a candidate $g$\n",
    "\n",
    "- $g = \\mathrm{tanh}( W^g [h_{t-1}, x_t])$\n",
    "\n",
    "The value of the cell's memory, $c_t$, is updated as\n",
    "\n",
    "- $c_t = c_{t-1} \\circ f + g \\circ i$\n",
    "\n",
    "where $c_{t-1}$ is the previous memory, and $\\circ$ refers to element-wise multiplication (hint: element-wise multiplication is computed with the `*` operator in numpy).\n",
    "\n",
    "The output, $h_t$, is computed as\n",
    "\n",
    "- $h_t = \\mathrm{tanh}(c_t) \\circ o$\n",
    "\n",
    "and it is used for both the timestep's output and the next timestep, whereas $c_t$ is exclusively sent to the next timestep.\n",
    "This makes $c_t$ a memory feature, and is not used directly to compute the output of the timestep."
   ]
  },
  {
   "cell_type": "markdown",
   "metadata": {
    "id": "m8_4RWp3k2iQ"
   },
   "source": [
    "## Exercise h) Make the LSTMLayer class\n",
    "\n",
    "Make the LSTM class."
   ]
  },
  {
   "cell_type": "code",
<<<<<<< HEAD
   "execution_count": 20,
=======
   "execution_count": 41,
>>>>>>> 2033b94 (Completed exercises 4 and 5)
   "metadata": {
    "id": "qdU0yMXQU7d0"
   },
   "outputs": [],
   "source": [
    "# Insert code here\n",
    "\n",
    "class LSTMLayer:\n",
    "    def __init__(self, n_in: int, n_hid: int, act_fn, initializer = NormalInitializer(), initializer_hid = NormalInitializer()):\n",
    "        self.n_in = n_in\n",
    "        self.n_hid = n_hid\n",
<<<<<<< HEAD
    "        self.g_layer = \n",
    "        self.i_layer = \n",
    "        self.f_layer = \n",
    "        self.o_layer = \n",
=======
    "        self.g_layer = DenseLayer(n_in + n_hid, n_hid, lambda x: x.tanh(), use_bias=True)\n",
    "        self.i_layer = DenseLayer(n_in + n_hid, n_hid, lambda x: x.sigmoid(), use_bias = True)\n",
    "        self.f_layer = DenseLayer(n_in + n_hid, n_hid, lambda x: x.sigmoid(), use_bias=True)\n",
    "        self.o_layer = DenseLayer(n_in + n_hid, n_hid, lambda x: x.sigmoid(), use_bias=True)\n",
>>>>>>> 2033b94 (Completed exercises 4 and 5)
    "        self.initial_hid = [Var(0.0) for _ in range(n_hid)]\n",
    "        self.stored_hid = [Var(0.0) for _ in range(n_hid)]\n",
    "        self.initial_c = [Var(0.0) for _ in range(n_hid)]\n",
    "        self.stored_c = [Var(0.0) for _ in range(n_hid)]\n",
    "        self.act_fn = act_fn\n",
    "    \n",
    "    def __repr__(self):    \n",
<<<<<<< HEAD
    "        return 'Feed-forward: ' + repr(self.in_hid_layer) + ' Candidate: ' + repr(self.g_layer) + ' i gate ' + repr(self.i_layer) + ' f gate ' + repr(self.f_layer) + ' o gate ' + repr(self.o_layer) + ' Initial hidden: ' + repr(self.initial_hid)\n",
    "\n",
    "    def parameters(self) -> Sequence[Var]:      \n",
    "      return self.in_hid_layer.parameters() + self.g_layer.parameters() + self.i_layer.parameters() + self.f_layer.parameters() + self.o_layer.parameters() + self.initial_hid\n",
=======
    "        return 'Feed-forward: ' + ' Candidate: ' + repr(self.g_layer) + ' i gate ' + repr(self.i_layer) + ' f gate ' + repr(self.f_layer) + ' o gate ' + repr(self.o_layer) + ' Initial hidden: ' + repr(self.initial_hid)\n",
    "\n",
    "    def parameters(self) -> Sequence[Var]:      \n",
    "      return self.g_layer.parameters() + self.i_layer.parameters() + self.f_layer.parameters() + self.o_layer.parameters() + self.initial_hid\n",
>>>>>>> 2033b94 (Completed exercises 4 and 5)
    "\n",
    "    def forward_step(self, input: Sequence[Var], input_hid: Sequence[Var], input_c: Sequence[Var]) -> Sequence[Var]:\n",
    "        hids = []\n",
    "        cs = []\n",
    "        concatenated_input = []\n",
    "        for val in input_hid:\n",
    "          concatenated_input.append(val)\n",
    "        for val in input:\n",
    "          concatenated_input.append(val)\n",
    "\n",
<<<<<<< HEAD
    "        # Insert code here\n",
    "\n",
=======
    "        f_t = self.f_layer.forward(concatenated_input)\n",
    "        i_t = self.i_layer.forward(concatenated_input)\n",
    "        o_t = self.o_layer.forward(concatenated_input)\n",
    "        g_t = self.g_layer.forward(concatenated_input)\n",
    "        \n",
    "        for i in range(self.n_hid):\n",
    "            c_i = f_t[i] * input_c[i] + g_t[i] * o_t[i]\n",
    "            h_i = c_i.tanh() * o_t[i]\n",
    "            hids.append(h_i)\n",
    "            cs.append(c_i)\n",
>>>>>>> 2033b94 (Completed exercises 4 and 5)
    "        return hids, cs\n",
    "    \n",
    "    def forward_sequence(self, input: Sequence[Sequence[Var]], use_stored_hid = False) -> Sequence[Sequence[Var]]:\n",
    "        out = []\n",
    "        if use_stored_hid:\n",
    "            hid = self.stored_hid\n",
    "            c = self.stored_c\n",
    "        else:\n",
    "            hid = self.initial_hid\n",
    "            c = self.initial_c\n",
    "        # Takes a sequence and loops over each character in the sequence. Note that each character has dimenson equal to the embeddng dimenson\n",
    "        for i in range(len(input)):\n",
<<<<<<< HEAD
    "            hid, c = # insert code here\n",
=======
    "            hid, c = self.forward_step(input[i], hid, c)\n",
>>>>>>> 2033b94 (Completed exercises 4 and 5)
    "            out.append(hid)\n",
    "        self.stored_hid = hid\n",
    "        self.stored_c = c\n",
    "        return out"
   ]
  },
  {
   "cell_type": "markdown",
   "metadata": {
    "id": "gKu-bfhzk2iY"
   },
   "source": [
    "Here is a bit of code to test it out:"
   ]
  },
  {
   "cell_type": "code",
<<<<<<< HEAD
   "execution_count": null,
   "metadata": {
    "id": "u4AYroqSVRSv"
   },
   "outputs": [],
=======
   "execution_count": 42,
   "metadata": {
    "id": "u4AYroqSVRSv"
   },
   "outputs": [
    {
     "name": "stdout",
     "output_type": "stream",
     "text": [
      "Feed-forward:  Candidate: Weights: [[Var(v=-0.0832, grad=0.0000), Var(v=-0.1564, grad=0.0000), Var(v=-0.0313, grad=0.0000), Var(v=0.0302, grad=0.0000), Var(v=-0.0882, grad=0.0000)], [Var(v=0.0438, grad=0.0000), Var(v=0.1010, grad=0.0000), Var(v=0.0094, grad=0.0000), Var(v=0.0921, grad=0.0000), Var(v=0.1132, grad=0.0000)], [Var(v=0.0276, grad=0.0000), Var(v=-0.1531, grad=0.0000), Var(v=0.2298, grad=0.0000), Var(v=0.0366, grad=0.0000), Var(v=0.0471, grad=0.0000)], [Var(v=0.0832, grad=0.0000), Var(v=0.0839, grad=0.0000), Var(v=0.1521, grad=0.0000), Var(v=-0.1230, grad=0.0000), Var(v=-0.0617, grad=0.0000)], [Var(v=-0.0564, grad=0.0000), Var(v=-0.1092, grad=0.0000), Var(v=0.0678, grad=0.0000), Var(v=-0.1641, grad=0.0000), Var(v=0.1300, grad=0.0000)], [Var(v=-0.0082, grad=0.0000), Var(v=0.1870, grad=0.0000), Var(v=-0.1867, grad=0.0000), Var(v=0.1089, grad=0.0000), Var(v=-0.0022, grad=0.0000)]] Biases: [Var(v=0.0000, grad=0.0000), Var(v=0.0000, grad=0.0000), Var(v=0.0000, grad=0.0000), Var(v=0.0000, grad=0.0000), Var(v=0.0000, grad=0.0000)] i gate Weights: [[Var(v=-0.0312, grad=0.0000), Var(v=0.0051, grad=0.0000), Var(v=-0.0886, grad=0.0000), Var(v=-0.0201, grad=0.0000), Var(v=0.0547, grad=0.0000)], [Var(v=-0.1323, grad=0.0000), Var(v=0.1063, grad=0.0000), Var(v=0.1511, grad=0.0000), Var(v=0.0461, grad=0.0000), Var(v=0.0058, grad=0.0000)], [Var(v=0.1519, grad=0.0000), Var(v=0.1609, grad=0.0000), Var(v=-0.0325, grad=0.0000), Var(v=0.0866, grad=0.0000), Var(v=-0.0271, grad=0.0000)], [Var(v=-0.0831, grad=0.0000), Var(v=0.0469, grad=0.0000), Var(v=0.1228, grad=0.0000), Var(v=-0.0889, grad=0.0000), Var(v=-0.0149, grad=0.0000)], [Var(v=-0.1973, grad=0.0000), Var(v=-0.0955, grad=0.0000), Var(v=-0.0158, grad=0.0000), Var(v=-0.0293, grad=0.0000), Var(v=0.0184, grad=0.0000)], [Var(v=0.0512, grad=0.0000), Var(v=-0.0003, grad=0.0000), Var(v=0.0220, grad=0.0000), Var(v=-0.1246, grad=0.0000), Var(v=-0.0382, grad=0.0000)]] Biases: [Var(v=0.0000, grad=0.0000), Var(v=0.0000, grad=0.0000), Var(v=0.0000, grad=0.0000), Var(v=0.0000, grad=0.0000), Var(v=0.0000, grad=0.0000)] f gate Weights: [[Var(v=0.0277, grad=0.0000), Var(v=-0.1025, grad=0.0000), Var(v=0.0875, grad=0.0000), Var(v=-0.0682, grad=0.0000), Var(v=-0.1031, grad=0.0000)], [Var(v=-0.0917, grad=0.0000), Var(v=0.1181, grad=0.0000), Var(v=0.0768, grad=0.0000), Var(v=0.0282, grad=0.0000), Var(v=0.2161, grad=0.0000)], [Var(v=0.0501, grad=0.0000), Var(v=0.0251, grad=0.0000), Var(v=0.0343, grad=0.0000), Var(v=0.0475, grad=0.0000), Var(v=-0.0317, grad=0.0000)], [Var(v=0.0738, grad=0.0000), Var(v=0.0552, grad=0.0000), Var(v=0.0258, grad=0.0000), Var(v=-0.0113, grad=0.0000), Var(v=0.0884, grad=0.0000)], [Var(v=0.1010, grad=0.0000), Var(v=0.1080, grad=0.0000), Var(v=-0.1219, grad=0.0000), Var(v=-0.1490, grad=0.0000), Var(v=0.1638, grad=0.0000)], [Var(v=0.1293, grad=0.0000), Var(v=-0.0927, grad=0.0000), Var(v=-0.0319, grad=0.0000), Var(v=-0.0811, grad=0.0000), Var(v=-0.0457, grad=0.0000)]] Biases: [Var(v=0.0000, grad=0.0000), Var(v=0.0000, grad=0.0000), Var(v=0.0000, grad=0.0000), Var(v=0.0000, grad=0.0000), Var(v=0.0000, grad=0.0000)] o gate Weights: [[Var(v=-0.0367, grad=0.0000), Var(v=0.1156, grad=0.0000), Var(v=0.1083, grad=0.0000), Var(v=0.0313, grad=0.0000), Var(v=0.0573, grad=0.0000)], [Var(v=-0.0619, grad=0.0000), Var(v=-0.1381, grad=0.0000), Var(v=0.1270, grad=0.0000), Var(v=0.1023, grad=0.0000), Var(v=0.0625, grad=0.0000)], [Var(v=0.1218, grad=0.0000), Var(v=-0.1698, grad=0.0000), Var(v=0.1616, grad=0.0000), Var(v=-0.0400, grad=0.0000), Var(v=-0.0793, grad=0.0000)], [Var(v=-0.0661, grad=0.0000), Var(v=-0.2808, grad=0.0000), Var(v=-0.0220, grad=0.0000), Var(v=-0.0121, grad=0.0000), Var(v=-0.1374, grad=0.0000)], [Var(v=-0.0570, grad=0.0000), Var(v=-0.0581, grad=0.0000), Var(v=0.0730, grad=0.0000), Var(v=-0.0304, grad=0.0000), Var(v=-0.1053, grad=0.0000)], [Var(v=0.0097, grad=0.0000), Var(v=-0.1248, grad=0.0000), Var(v=0.0777, grad=0.0000), Var(v=-0.0722, grad=0.0000), Var(v=0.0731, grad=0.0000)]] Biases: [Var(v=0.0000, grad=0.0000), Var(v=0.0000, grad=0.0000), Var(v=0.0000, grad=0.0000), Var(v=0.0000, grad=0.0000), Var(v=0.0000, grad=0.0000)] Initial hidden: [Var(v=0.0000, grad=0.0000), Var(v=0.0000, grad=0.0000), Var(v=0.0000, grad=0.0000), Var(v=0.0000, grad=0.0000), Var(v=0.0000, grad=0.0000)]\n",
      "[[[Var(v=0.0057, grad=1.0000)], [Var(v=0.0152, grad=0.0000)], [Var(v=0.0264, grad=0.0000)]], [[Var(v=0.0057, grad=0.0000)], [Var(v=0.0152, grad=0.0000)], [Var(v=0.0264, grad=0.0000)]]]\n"
     ]
    }
   ],
>>>>>>> 2033b94 (Completed exercises 4 and 5)
   "source": [
    "NN = [\n",
    "    LSTMLayer(1, 5, lambda x: x.tanh()),\n",
    "    DenseLayer(5, 1, lambda x: x.identity())\n",
    "]\n",
    "\n",
    "print(NN[0])\n",
    "x_train =[[[Var(1.0)], [Var(2.0)], [Var(3.0)]],\n",
    "          [[Var(1.0)], [Var(2.0)], [Var(3.0)]]]\n",
    "\n",
    "output_train = forward_batch(x_train, NN)          \n",
    "output_train[0][0][0].backward()\n",
    "\n",
    "print(output_train)"
   ]
  },
  {
   "cell_type": "markdown",
   "metadata": {
    "id": "z4r4mgFsk2ik"
   },
   "source": [
    "## Exercise i) LSTM training\n",
    "\n",
    "Complete the LSTM training loop\n",
    "\n",
    "Run the training loop. Training time in Nanograd will likely be long, but see if you can find settings to compare your LSTM learning curve (NLL and number of epochs) to the vanilla RNN from earlier. Do you observe any improvements? Motivate your answer.\n",
    "\n",
    "Finally, below we will implement LSTM in PyTorch. You will notice it is much, much faster!"
   ]
  },
  {
   "cell_type": "code",
<<<<<<< HEAD
   "execution_count": 22,
=======
   "execution_count": 43,
>>>>>>> 2033b94 (Completed exercises 4 and 5)
   "metadata": {
    "id": "MOAmppJD66tJ"
   },
   "outputs": [],
   "source": [
    "# Initialize training hyperparameters\n",
<<<<<<< HEAD
    "EPOCHS = \n",
    "LR = \n",
    "LR_DECAY = "
=======
    "EPOCHS = 200\n",
    "LR = 1e-2\n",
    "LR_DECAY = 0.995 "
>>>>>>> 2033b94 (Completed exercises 4 and 5)
   ]
  },
  {
   "cell_type": "code",
<<<<<<< HEAD
   "execution_count": null,
   "metadata": {
    "id": "tiotu2ab66w-"
   },
   "outputs": [],
=======
   "execution_count": 46,
   "metadata": {
    "id": "tiotu2ab66w-"
   },
   "outputs": [
    {
     "name": "stdout",
     "output_type": "stream",
     "text": [
      "   0 ( 0.00%) Train loss: 5.236 \t Validation loss: 4.279\n"
     ]
    },
    {
     "ename": "KeyboardInterrupt",
     "evalue": "",
     "output_type": "error",
     "traceback": [
      "\u001b[31m---------------------------------------------------------------------------\u001b[39m",
      "\u001b[31mKeyboardInterrupt\u001b[39m                         Traceback (most recent call last)",
      "\u001b[36mCell\u001b[39m\u001b[36m \u001b[39m\u001b[32mIn[46]\u001b[39m\u001b[32m, line 21\u001b[39m\n\u001b[32m     19\u001b[39m Loss = sequence_loss(output_batch, batch_y, cross_entropy_loss_sequence)\n\u001b[32m     20\u001b[39m \u001b[38;5;66;03m# Backward pass\u001b[39;00m\n\u001b[32m---> \u001b[39m\u001b[32m21\u001b[39m \u001b[43mLoss\u001b[49m\u001b[43m.\u001b[49m\u001b[43mbackward\u001b[49m\u001b[43m(\u001b[49m\u001b[43m)\u001b[49m\n\u001b[32m     23\u001b[39m \u001b[38;5;66;03m# gradient descent update\u001b[39;00m\n\u001b[32m     24\u001b[39m update_parameters(parameters(NN), LR)\n",
      "\u001b[36mCell\u001b[39m\u001b[36m \u001b[39m\u001b[32mIn[4]\u001b[39m\u001b[32m, line 22\u001b[39m, in \u001b[36mVar.backward\u001b[39m\u001b[34m(self)\u001b[39m\n\u001b[32m     21\u001b[39m \u001b[38;5;28;01mdef\u001b[39;00m\u001b[38;5;250m \u001b[39m\u001b[34mbackward\u001b[39m(\u001b[38;5;28mself\u001b[39m):\n\u001b[32m---> \u001b[39m\u001b[32m22\u001b[39m     \u001b[38;5;28;43mself\u001b[39;49m\u001b[43m.\u001b[49m\u001b[43mbackprop\u001b[49m\u001b[43m(\u001b[49m\u001b[32;43m1.0\u001b[39;49m\u001b[43m)\u001b[49m\n",
      "\u001b[36mCell\u001b[39m\u001b[36m \u001b[39m\u001b[32mIn[4]\u001b[39m\u001b[32m, line 19\u001b[39m, in \u001b[36mVar.backprop\u001b[39m\u001b[34m(self, bp)\u001b[39m\n\u001b[32m     17\u001b[39m \u001b[38;5;28mself\u001b[39m.grad += bp\n\u001b[32m     18\u001b[39m \u001b[38;5;28;01mfor\u001b[39;00m \u001b[38;5;28minput\u001b[39m, grad \u001b[38;5;129;01min\u001b[39;00m \u001b[38;5;28mself\u001b[39m.grad_fn():\n\u001b[32m---> \u001b[39m\u001b[32m19\u001b[39m     \u001b[38;5;28;43minput\u001b[39;49m\u001b[43m.\u001b[49m\u001b[43mbackprop\u001b[49m\u001b[43m(\u001b[49m\u001b[43mgrad\u001b[49m\u001b[43m \u001b[49m\u001b[43m*\u001b[49m\u001b[43m \u001b[49m\u001b[43mbp\u001b[49m\u001b[43m)\u001b[49m\n",
      "\u001b[36mCell\u001b[39m\u001b[36m \u001b[39m\u001b[32mIn[4]\u001b[39m\u001b[32m, line 19\u001b[39m, in \u001b[36mVar.backprop\u001b[39m\u001b[34m(self, bp)\u001b[39m\n\u001b[32m     17\u001b[39m \u001b[38;5;28mself\u001b[39m.grad += bp\n\u001b[32m     18\u001b[39m \u001b[38;5;28;01mfor\u001b[39;00m \u001b[38;5;28minput\u001b[39m, grad \u001b[38;5;129;01min\u001b[39;00m \u001b[38;5;28mself\u001b[39m.grad_fn():\n\u001b[32m---> \u001b[39m\u001b[32m19\u001b[39m     \u001b[38;5;28;43minput\u001b[39;49m\u001b[43m.\u001b[49m\u001b[43mbackprop\u001b[49m\u001b[43m(\u001b[49m\u001b[43mgrad\u001b[49m\u001b[43m \u001b[49m\u001b[43m*\u001b[49m\u001b[43m \u001b[49m\u001b[43mbp\u001b[49m\u001b[43m)\u001b[49m\n",
      "    \u001b[31m[... skipping similar frames: Var.backprop at line 19 (73 times)]\u001b[39m\n",
      "\u001b[36mCell\u001b[39m\u001b[36m \u001b[39m\u001b[32mIn[4]\u001b[39m\u001b[32m, line 19\u001b[39m, in \u001b[36mVar.backprop\u001b[39m\u001b[34m(self, bp)\u001b[39m\n\u001b[32m     17\u001b[39m \u001b[38;5;28mself\u001b[39m.grad += bp\n\u001b[32m     18\u001b[39m \u001b[38;5;28;01mfor\u001b[39;00m \u001b[38;5;28minput\u001b[39m, grad \u001b[38;5;129;01min\u001b[39;00m \u001b[38;5;28mself\u001b[39m.grad_fn():\n\u001b[32m---> \u001b[39m\u001b[32m19\u001b[39m     \u001b[38;5;28;43minput\u001b[39;49m\u001b[43m.\u001b[49m\u001b[43mbackprop\u001b[49m\u001b[43m(\u001b[49m\u001b[43mgrad\u001b[49m\u001b[43m \u001b[49m\u001b[43m*\u001b[49m\u001b[43m \u001b[49m\u001b[43mbp\u001b[49m\u001b[43m)\u001b[49m\n",
      "\u001b[36mCell\u001b[39m\u001b[36m \u001b[39m\u001b[32mIn[4]\u001b[39m\u001b[32m, line 16\u001b[39m, in \u001b[36mVar.backprop\u001b[39m\u001b[34m(self, bp)\u001b[39m\n\u001b[32m     13\u001b[39m     \u001b[38;5;28mself\u001b[39m.grad_fn = grad_fn\n\u001b[32m     14\u001b[39m     \u001b[38;5;28mself\u001b[39m.grad = \u001b[32m0.0\u001b[39m\n\u001b[32m---> \u001b[39m\u001b[32m16\u001b[39m \u001b[38;5;28;01mdef\u001b[39;00m\u001b[38;5;250m \u001b[39m\u001b[34mbackprop\u001b[39m(\u001b[38;5;28mself\u001b[39m, bp):\n\u001b[32m     17\u001b[39m     \u001b[38;5;28mself\u001b[39m.grad += bp\n\u001b[32m     18\u001b[39m     \u001b[38;5;28;01mfor\u001b[39;00m \u001b[38;5;28minput\u001b[39m, grad \u001b[38;5;129;01min\u001b[39;00m \u001b[38;5;28mself\u001b[39m.grad_fn():\n",
      "\u001b[31mKeyboardInterrupt\u001b[39m: "
     ]
    }
   ],
>>>>>>> 2033b94 (Completed exercises 4 and 5)
   "source": [
    "NN = [\n",
    "    LSTMLayer(4, 1, lambda x: x.tanh()),\n",
    "    DenseLayer(1, 4, lambda x: x.identity())\n",
    "]\n",
    "\n",
    "train_loss = []\n",
    "val_loss = []\n",
    "\n",
    "batch_size = 8\n",
    "\n",
    "for e in range(EPOCHS):\n",
    "    for b in range(int(np.ceil(len(encoded_training_set_x)/batch_size))):\n",
    "        # Forward pass and loss computation\n",
<<<<<<< HEAD
    "        Loss =\n",
=======
    "        start = b * batch_size\n",
    "        end = start + batch_size\n",
    "        batch_x = encoded_training_set_x[start:end]\n",
    "        batch_y = encoded_training_set_y[start:end]\n",
    "        output_batch = forward_batch(batch_x, NN)\n",
    "        Loss = sequence_loss(output_batch, batch_y, cross_entropy_loss_sequence)\n",
>>>>>>> 2033b94 (Completed exercises 4 and 5)
    "        # Backward pass\n",
    "        Loss.backward()\n",
    "        \n",
    "        # gradient descent update\n",
    "        update_parameters(parameters(NN), LR)\n",
    "        zero_gradients(parameters(NN))\n",
    "      \n",
    "    LR = LR * LR_DECAY\n",
    "\n",
    "    # Training loss\n",
<<<<<<< HEAD
    "    Loss = \n",
    "    train_loss.append(Loss.v/len(encoded_training_set_y))\n",
    "        \n",
    "    # Validation loss\n",
    "    Loss_validation = \n",
=======
    "    output_train = forward_batch(encoded_training_set_x, NN)\n",
    "    Loss = sequence_loss(output_train, encoded_training_set_y, cross_entropy_loss_sequence)\n",
    "    train_loss.append(Loss.v/len(encoded_training_set_y))\n",
    "        \n",
    "    # Validation loss\n",
    "    output_val = forward_batch(encoded_validation_set_x, NN)\n",
    "    Loss_validation = sequence_loss(output_val, encoded_validation_set_y, cross_entropy_loss_sequence)\n",
>>>>>>> 2033b94 (Completed exercises 4 and 5)
    "    val_loss.append(Loss_validation.v/len(encoded_validation_set_y))\n",
    "    \n",
    "    if e%5==0:\n",
    "        print(\"{:4d}\".format(e),\n",
    "              \"({:5.2f}%)\".format(e/EPOCHS*100), \n",
    "              \"Train loss: {:4.3f} \\t Validation loss: {:4.3f}\".format(train_loss[-1], val_loss[-1]))\n",
    "        \n",
    "# Plot training and validation loss\n",
    "import matplotlib.pyplot as plt\n",
    "%matplotlib inline\n",
    "epoch = np.arange(len(train_loss))\n",
    "plt.figure()\n",
    "plt.plot(epoch, train_loss, 'r', label='Training loss',)\n",
    "plt.plot(epoch, val_loss, 'b', label='Validation loss')\n",
    "plt.legend()\n",
    "plt.xlabel('Epoch'), plt.ylabel('NLL')\n",
    "plt.show()"
   ]
  },
  {
   "cell_type": "markdown",
   "metadata": {
    "id": "gi51eWgKxyOk"
   },
   "source": [
    "## PyTorch implementation of the LSTM\n",
    "\n",
    "Now that we know how the LSTM cell works, let's see how easy it is to use in PyTorch!"
   ]
  },
  {
   "cell_type": "markdown",
   "metadata": {
    "id": "O6HDdJLuk2ip"
   },
   "source": [
    "Definition of our LSTM network. We define a LSTM layer using the [nn.LSTM](https://pytorch.org/docs/stable/nn.html#lstm) class. The LSTM layer takes as argument the size of the input and the size of the hidden state like in our Nanograd implementation."
   ]
  },
  {
   "cell_type": "code",
<<<<<<< HEAD
   "execution_count": null,
   "metadata": {
    "id": "8UGrvknfk2ip"
   },
   "outputs": [],
=======
   "execution_count": 48,
   "metadata": {
    "id": "8UGrvknfk2ip"
   },
   "outputs": [
    {
     "name": "stdout",
     "output_type": "stream",
     "text": [
      "MyRecurrentNet(\n",
      "  (lstm): LSTM(4, 50)\n",
      "  (l_out): Linear(in_features=50, out_features=4, bias=False)\n",
      ")\n"
     ]
    }
   ],
>>>>>>> 2033b94 (Completed exercises 4 and 5)
   "source": [
    "import torch\n",
    "import torch.nn as nn\n",
    "import torch.nn.functional as F\n",
    "\n",
    "class MyRecurrentNet(nn.Module):\n",
    "    def __init__(self):\n",
    "        super(MyRecurrentNet, self).__init__()\n",
    "        \n",
    "        # Recurrent layer\n",
    "        # YOUR CODE HERE!\n",
<<<<<<< HEAD
    "        self.lstm = \n",
=======
    "        self.lstm = nn.LSTM(input_size = vocab_size, hidden_size = 50, num_layers=1)\n",
>>>>>>> 2033b94 (Completed exercises 4 and 5)
    "        \n",
    "        # Output layer\n",
    "        self.l_out = nn.Linear(in_features=50,\n",
    "                            out_features=vocab_size,\n",
    "                            bias=False)\n",
    "        \n",
    "    def forward(self, x):\n",
    "        # RNN returns output and last hidden state\n",
    "        x, (h, c) = self.lstm(x)\n",
    "        \n",
    "        # Flatten output for feed-forward layer\n",
    "        x = x.view(-1, self.lstm.hidden_size)\n",
    "        \n",
    "        # Output layer\n",
    "        x = self.l_out(x)\n",
    "        \n",
    "        return x\n",
    "\n",
    "net = MyRecurrentNet()\n",
    "print(net)"
   ]
  },
  {
   "cell_type": "markdown",
   "metadata": {
    "id": "J6r3bPwYk2is"
   },
   "source": [
    "## Exercise j) Train in PyTorch\n",
    "\n",
    "Define an LSTM for our recurrent neural network `MyRecurrentNet` above. A single LSTM layer is sufficient. What should the input size and hidden size be? Hint: use the PyTorch documentation.\n",
    "\n",
    "It's time for us to train our network. In the section below, you will get to put your deep learning skills to use and create your own training loop. You may want to consult previous exercises if you cannot recall how to define the training loop."
   ]
  },
  {
   "cell_type": "code",
<<<<<<< HEAD
   "execution_count": null,
   "metadata": {},
   "outputs": [],
=======
   "execution_count": 49,
   "metadata": {},
   "outputs": [
    {
     "name": "stdout",
     "output_type": "stream",
     "text": [
      "Our one-hot encoding of 'a' has shape (1, 4).\n",
      "Our one-hot encoding of 'a b' has shape torch.Size([2, 4, 1]).\n",
      "[[1. 0. 0. 0.]]\n",
      "tensor([[[1.],\n",
      "         [0.],\n",
      "         [0.],\n",
      "         [0.]],\n",
      "\n",
      "        [[0.],\n",
      "         [1.],\n",
      "         [0.],\n",
      "         [0.]]])\n"
     ]
    }
   ],
>>>>>>> 2033b94 (Completed exercises 4 and 5)
   "source": [
    "# lets redefine the one_hot_encode() and one_hot_encode_sequence() functions\n",
    "# to work now with torch.Tensor variables instead of Var.\n",
    "def one_hot_encode(idx, vocab_size):\n",
    "    \"\"\"\n",
    "    One-hot encodes a single word given its index and the size of the vocabulary.\n",
    "    \n",
    "    Args:\n",
    "     `idx`: the index of the given word\n",
    "     `vocab_size`: the size of the vocabulary\n",
    "    \n",
    "    Returns a 1-D numpy array of length `vocab_size`.\n",
    "    \"\"\"\n",
    "    # Initialize the encoded array\n",
    "    one_hot = np.array([np.zeros(vocab_size)])\n",
    "    \n",
    "    # Set the appropriate element to one\n",
    "    one_hot[0][idx] = 1.0\n",
    "    return one_hot\n",
    "\n",
    "\n",
    "def one_hot_encode_sequence(sequence, vocab_size):\n",
    "    \"\"\"\n",
    "    One-hot encodes a sequence of words given a fixed vocabulary size.\n",
    "    \n",
    "    Args:\n",
    "     `sentence`: a list of words to encode\n",
    "     `vocab_size`: the size of the vocabulary\n",
    "     \n",
    "    Returns a 3-D torch.Tensor of shape (num words, vocab size, 1).\n",
    "    \"\"\"\n",
    "    # Encode each word in the sentence\n",
    "    encoding = np.array([one_hot_encode(word_to_idx[word], vocab_size) for word in sequence])\n",
    "\n",
    "    # Reshape encoding s.t. it has shape (num words, vocab size, 1)\n",
    "    encoding = encoding.reshape(encoding.shape[0], encoding.shape[2], 1)\n",
    "    return torch.Tensor(encoding)\n",
    "\n",
    "# lets test it\n",
    "test_word = one_hot_encode(word_to_idx['a'], vocab_size)\n",
    "print(f'Our one-hot encoding of \\'a\\' has shape {test_word.shape}.')\n",
    "\n",
    "test_sentence = one_hot_encode_sequence(['a', 'b'], vocab_size)\n",
    "print(f'Our one-hot encoding of \\'a b\\' has shape {test_sentence.shape}.')\n",
    "\n",
    "print(test_word)\n",
    "print(test_sentence)"
   ]
  },
  {
   "cell_type": "code",
   "execution_count": null,
   "metadata": {
    "id": "2URKsyFDx8xG"
   },
   "outputs": [],
   "source": [
    "# Hyper-parameters\n",
    "num_epochs = 200\n",
    "\n",
    "# Initialize a new network\n",
    "net = MyRecurrentNet()\n",
    "\n",
    "# Define a loss function and optimizer for this problem\n",
    "# YOUR CODE HERE!\n",
    "criterion = \n",
    "optimizer = \n",
    "\n",
    "# Track loss\n",
    "training_loss, validation_loss = [], []\n",
    "\n",
    "# For each epoch\n",
    "for i in range(num_epochs):\n",
    "    \n",
    "    # Track loss\n",
    "    epoch_training_loss = 0\n",
    "    epoch_validation_loss = 0\n",
    "    \n",
    "    net.eval()\n",
    "        \n",
    "    # For each sentence in validation set\n",
    "    for inputs, targets in validation_set:\n",
    "        \n",
    "        # One-hot encode input and target sequence\n",
    "        inputs_one_hot = one_hot_encode_sequence(inputs, vocab_size)\n",
    "        targets_idx = [word_to_idx[word] for word in targets]\n",
    "        \n",
    "        # Convert input to tensor\n",
    "        inputs_one_hot = torch.Tensor(inputs_one_hot)\n",
    "        inputs_one_hot = inputs_one_hot.permute(0, 2, 1)\n",
    "        \n",
    "        # Convert target to tensor\n",
    "        targets_idx = torch.LongTensor(targets_idx)\n",
    "        \n",
    "        # Forward pass\n",
    "        # YOUR CODE HERE!\n",
    "        outputs = \n",
    "        \n",
    "        # Compute loss\n",
    "        # YOUR CODE HERE!\n",
    "        loss = \n",
    "        \n",
    "        # Update loss\n",
    "        epoch_validation_loss += loss.detach().numpy()\n",
    "    \n",
    "    net.train()\n",
    "    \n",
    "    # For each sentence in training set\n",
    "    for inputs, targets in training_set:\n",
    "        \n",
    "        # One-hot encode input and target sequence\n",
    "        inputs_one_hot = one_hot_encode_sequence(inputs, vocab_size)\n",
    "        targets_idx = [word_to_idx[word] for word in targets]\n",
    "        \n",
    "        # Convert input to tensor\n",
    "        inputs_one_hot = torch.Tensor(inputs_one_hot)\n",
    "        inputs_one_hot = inputs_one_hot.permute(0, 2, 1)\n",
    "        \n",
    "        # Convert target to tensor\n",
    "        targets_idx = torch.LongTensor(targets_idx)\n",
    "        \n",
    "        # Forward pass\n",
    "        # YOUR CODE HERE!\n",
    "        outputs = \n",
    "        \n",
    "        # Compute loss\n",
    "        # YOUR CODE HERE!\n",
    "        loss = \n",
    "        \n",
    "        # Backward pass\n",
    "        # YOUR CODE HERE!\n",
    "        # zero grad, backward, step...\n",
    "        \n",
    "        # Update loss\n",
    "        epoch_training_loss += loss.detach().numpy()\n",
    "        \n",
    "    # Save loss for plot\n",
    "    training_loss.append(epoch_training_loss/len(training_set))\n",
    "    validation_loss.append(epoch_validation_loss/len(validation_set))\n",
    "\n",
    "    # Print loss every 10 epochs\n",
    "    if i % 10 == 0:\n",
    "        print(f'Epoch {i}, training loss: {training_loss[-1]}, validation loss: {validation_loss[-1]}')\n",
    "\n",
    "        \n",
    "# Get first sentence in test set\n",
    "inputs, targets = test_set[1]\n",
    "\n",
    "# One-hot encode input and target sequence\n",
    "inputs_one_hot = one_hot_encode_sequence(inputs, vocab_size)\n",
    "targets_idx = [word_to_idx[word] for word in targets]\n",
    "\n",
    "# Convert input to tensor\n",
    "inputs_one_hot = torch.Tensor(inputs_one_hot)\n",
    "inputs_one_hot = inputs_one_hot.permute(0, 2, 1)\n",
    "\n",
    "# Convert target to tensor\n",
    "targets_idx = torch.LongTensor(targets_idx)\n",
    "\n",
    "# Forward pass\n",
    "outputs = net.forward(inputs_one_hot).data.numpy()\n",
    "\n",
    "print('\\nInput sequence:')\n",
    "print(inputs)\n",
    "\n",
    "print('\\nTarget sequence:')\n",
    "print(targets)\n",
    "\n",
    "print('\\nPredicted sequence:')\n",
    "print([idx_to_word[np.argmax(output)] for output in outputs])\n",
    "\n",
    "# Plot training and validation loss\n",
    "epoch = np.arange(len(training_loss))\n",
    "plt.figure()\n",
    "plt.plot(epoch, training_loss, 'r', label='Training loss',)\n",
    "plt.plot(epoch, validation_loss, 'b', label='Validation loss')\n",
    "plt.legend()\n",
    "plt.xlabel('Epoch'), plt.ylabel('NLL')\n",
    "plt.show()"
   ]
  },
  {
   "cell_type": "markdown",
   "metadata": {
    "id": "ydr7Czg_k2iw"
   },
   "source": [
    "# Exercise k) Compare PyTorch and Nanograd implementations\n",
    "\n",
    "Compare the two implementations (in terms of predictive performance, training speed, etc.). Are they similar? How do they differ?\n",
    "\n",
    "\n",
    "Try to play around with the choice of hyper-parameters, optimizer, and hidden dimensions. How much can you improve the negative log-likelihood by these simple changes?"
   ]
  },
  {
   "cell_type": "markdown",
   "metadata": {
    "id": "M93ORx95k2ix"
   },
   "source": [
    "## Exercise l) Other RNN cells (optional)\n",
    "\n",
    "Aside from the LSTM cell, various other RNN cells exist. The gated recurrent unit (GRU) is a variation of the LSTM cell that uses less gating mechanisms. Try to look it up in the [PyTorch documentation](https://pytorch.org/docs/stable/nn.html#gru) and switch out the LSTM cell in the code above. What do you notice in terms of performance and convergence speed?"
   ]
  },
  {
   "cell_type": "markdown",
   "metadata": {
    "id": "juN400Ekk2iz"
   },
   "source": [
    "## Exercise m) More complex tasks (optional)\n",
    "\n",
    "Go back and generate a more complex patterned dataset to learn from. Do you see any significant differences between a vanilla RNN and LSTM (implemented in e.g. PyTorch) when you increase the difficulty of the task?"
   ]
  },
  {
   "cell_type": "markdown",
   "metadata": {
    "id": "v68YEkEBk2iz"
   },
   "source": [
    "# It works, now what?"
   ]
  },
  {
   "cell_type": "markdown",
   "metadata": {
    "id": "NjpqSrSuk2i0"
   },
   "source": [
    "In this notebook you have learned how to use embeddings, recurrent neural networks, and the LSTM cell in particular.\n",
    "\n",
    "As we have already seen, RNNs are excellent for sequential data such as language. But what do we do if we're modelling data with strong dependency in both directions? Like in many things deep learning, we can build powerful models by stacking layers on top of each other; *bi-directional* RNNs consist of two LSTM cells, one for each direction. A sequence is first fed into the forward LSTM cell and the reversed sequence is then used as input to the backward LSTM cell together with the last hidden state from the forward LSTM cell. Follow [this link](https://pdfs.semanticscholar.org/4b80/89bc9b49f84de43acc2eb8900035f7d492b2.pdf) for the original paper from 1997(!).\n",
    "\n",
    "For even deeper representations, multiple layers of both uni-directional and bi-directional RNNs can be stacked ontop of each other, just like feed-forward and convolutional layers. For more information on this, check out the [LSTM PyTorch documentation](https://pytorch.org/docs/stable/nn.html#lstm). Next week we will also explore ways to combine RNNs with other types of layers for even more expressive function approximators."
   ]
  }
 ],
 "metadata": {
  "colab": {
   "collapsed_sections": [
    "bdA4LPsFiACe",
    "cGSoDRgHk2g1",
    "Dzmryk72k2g-",
    "M93ORx95k2ix"
   ],
   "name": "5_2_Recurrent_Neural_Networks_Nanograd.ipynb",
   "provenance": []
  },
  "kernelspec": {
<<<<<<< HEAD
   "display_name": "Python 3",
=======
   "display_name": "dtu02456",
>>>>>>> 2033b94 (Completed exercises 4 and 5)
   "language": "python",
   "name": "python3"
  },
  "language_info": {
   "codemirror_mode": {
    "name": "ipython",
    "version": 3
   },
   "file_extension": ".py",
   "mimetype": "text/x-python",
   "name": "python",
   "nbconvert_exporter": "python",
   "pygments_lexer": "ipython3",
<<<<<<< HEAD
   "version": "3.9.12"
=======
   "version": "3.12.11"
>>>>>>> 2033b94 (Completed exercises 4 and 5)
  }
 },
 "nbformat": 4,
 "nbformat_minor": 1
}
